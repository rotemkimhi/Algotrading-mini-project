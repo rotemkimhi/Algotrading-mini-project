{
  "nbformat": 4,
  "nbformat_minor": 0,
  "metadata": {
    "colab": {
      "provenance": [],
      "collapsed_sections": [
        "kqqd1x95EwYC"
      ]
    },
    "kernelspec": {
      "name": "python3",
      "display_name": "Python 3"
    },
    "language_info": {
      "name": "python"
    }
  },
  "cells": [
    {
      "cell_type": "code",
      "source": [],
      "metadata": {
        "id": "Ia-lvclR4p1O"
      },
      "execution_count": 57,
      "outputs": []
    },
    {
      "cell_type": "markdown",
      "source": [
        "# **Part 1** \n",
        "\n"
      ],
      "metadata": {
        "id": "OxUJo0Fjjhdm"
      }
    },
    {
      "cell_type": "markdown",
      "source": [
        "data gathering"
      ],
      "metadata": {
        "id": "qXme-vx3kDoh"
      }
    },
    {
      "cell_type": "code",
      "source": [
        "# Install the required packages\n",
        "! pip install beautifulsoup4\n",
        "! pip install yfinance\n",
        "! pip install pandas-ta\n",
        "! pip install numpy as np\n",
        "! pip install scikit-learn\n",
        "! pip3 install backtesting\n",
        "\n",
        "from bs4 import BeautifulSoup as bs \n",
        "import matplotlib.pyplot as plt\n",
        "import requests\n",
        "import yfinance as yf\n",
        "import pandas as pd\n",
        "import pandas_ta as ta\n",
        "from sklearn.metrics import confusion_matrix, ConfusionMatrixDisplay\n",
        "\n"
      ],
      "metadata": {
        "id": "_n0-ccYVjr_J",
        "colab": {
          "base_uri": "https://localhost:8080/"
        },
        "outputId": "121d705a-43a2-4b36-d83b-99d3c60a5fd3"
      },
      "execution_count": 58,
      "outputs": [
        {
          "output_type": "stream",
          "name": "stdout",
          "text": [
            "Looking in indexes: https://pypi.org/simple, https://us-python.pkg.dev/colab-wheels/public/simple/\n",
            "Requirement already satisfied: beautifulsoup4 in /usr/local/lib/python3.8/dist-packages (4.11.2)\n",
            "Requirement already satisfied: soupsieve>1.2 in /usr/local/lib/python3.8/dist-packages (from beautifulsoup4) (2.4)\n",
            "Looking in indexes: https://pypi.org/simple, https://us-python.pkg.dev/colab-wheels/public/simple/\n",
            "Requirement already satisfied: yfinance in /usr/local/lib/python3.8/dist-packages (0.2.12)\n",
            "Requirement already satisfied: beautifulsoup4>=4.11.1 in /usr/local/lib/python3.8/dist-packages (from yfinance) (4.11.2)\n",
            "Requirement already satisfied: multitasking>=0.0.7 in /usr/local/lib/python3.8/dist-packages (from yfinance) (0.0.11)\n",
            "Requirement already satisfied: numpy>=1.16.5 in /usr/local/lib/python3.8/dist-packages (from yfinance) (1.22.4)\n",
            "Requirement already satisfied: cryptography>=3.3.2 in /usr/local/lib/python3.8/dist-packages (from yfinance) (39.0.1)\n",
            "Requirement already satisfied: pytz>=2022.5 in /usr/local/lib/python3.8/dist-packages (from yfinance) (2022.7.1)\n",
            "Requirement already satisfied: requests>=2.26 in /usr/local/lib/python3.8/dist-packages (from yfinance) (2.28.2)\n",
            "Requirement already satisfied: pandas>=1.3.0 in /usr/local/lib/python3.8/dist-packages (from yfinance) (1.3.5)\n",
            "Requirement already satisfied: lxml>=4.9.1 in /usr/local/lib/python3.8/dist-packages (from yfinance) (4.9.2)\n",
            "Requirement already satisfied: appdirs>=1.4.4 in /usr/local/lib/python3.8/dist-packages (from yfinance) (1.4.4)\n",
            "Requirement already satisfied: html5lib>=1.1 in /usr/local/lib/python3.8/dist-packages (from yfinance) (1.1)\n",
            "Requirement already satisfied: frozendict>=2.3.4 in /usr/local/lib/python3.8/dist-packages (from yfinance) (2.3.5)\n",
            "Requirement already satisfied: soupsieve>1.2 in /usr/local/lib/python3.8/dist-packages (from beautifulsoup4>=4.11.1->yfinance) (2.4)\n",
            "Requirement already satisfied: cffi>=1.12 in /usr/local/lib/python3.8/dist-packages (from cryptography>=3.3.2->yfinance) (1.15.1)\n",
            "Requirement already satisfied: webencodings in /usr/local/lib/python3.8/dist-packages (from html5lib>=1.1->yfinance) (0.5.1)\n",
            "Requirement already satisfied: six>=1.9 in /usr/local/lib/python3.8/dist-packages (from html5lib>=1.1->yfinance) (1.15.0)\n",
            "Requirement already satisfied: python-dateutil>=2.7.3 in /usr/local/lib/python3.8/dist-packages (from pandas>=1.3.0->yfinance) (2.8.2)\n",
            "Requirement already satisfied: idna<4,>=2.5 in /usr/local/lib/python3.8/dist-packages (from requests>=2.26->yfinance) (2.10)\n",
            "Requirement already satisfied: certifi>=2017.4.17 in /usr/local/lib/python3.8/dist-packages (from requests>=2.26->yfinance) (2022.12.7)\n",
            "Requirement already satisfied: urllib3<1.27,>=1.21.1 in /usr/local/lib/python3.8/dist-packages (from requests>=2.26->yfinance) (1.26.14)\n",
            "Requirement already satisfied: charset-normalizer<4,>=2 in /usr/local/lib/python3.8/dist-packages (from requests>=2.26->yfinance) (3.0.1)\n",
            "Requirement already satisfied: pycparser in /usr/local/lib/python3.8/dist-packages (from cffi>=1.12->cryptography>=3.3.2->yfinance) (2.21)\n",
            "Looking in indexes: https://pypi.org/simple, https://us-python.pkg.dev/colab-wheels/public/simple/\n",
            "Requirement already satisfied: pandas-ta in /usr/local/lib/python3.8/dist-packages (0.3.14b0)\n",
            "Requirement already satisfied: pandas in /usr/local/lib/python3.8/dist-packages (from pandas-ta) (1.3.5)\n",
            "Requirement already satisfied: numpy>=1.17.3 in /usr/local/lib/python3.8/dist-packages (from pandas->pandas-ta) (1.22.4)\n",
            "Requirement already satisfied: pytz>=2017.3 in /usr/local/lib/python3.8/dist-packages (from pandas->pandas-ta) (2022.7.1)\n",
            "Requirement already satisfied: python-dateutil>=2.7.3 in /usr/local/lib/python3.8/dist-packages (from pandas->pandas-ta) (2.8.2)\n",
            "Requirement already satisfied: six>=1.5 in /usr/local/lib/python3.8/dist-packages (from python-dateutil>=2.7.3->pandas->pandas-ta) (1.15.0)\n",
            "Looking in indexes: https://pypi.org/simple, https://us-python.pkg.dev/colab-wheels/public/simple/\n",
            "Requirement already satisfied: numpy in /usr/local/lib/python3.8/dist-packages (1.22.4)\n",
            "\u001b[31mERROR: Could not find a version that satisfies the requirement as (from versions: none)\u001b[0m\u001b[31m\n",
            "\u001b[0m\u001b[31mERROR: No matching distribution found for as\u001b[0m\u001b[31m\n",
            "\u001b[0mLooking in indexes: https://pypi.org/simple, https://us-python.pkg.dev/colab-wheels/public/simple/\n",
            "Requirement already satisfied: scikit-learn in /usr/local/lib/python3.8/dist-packages (1.0.2)\n",
            "Requirement already satisfied: threadpoolctl>=2.0.0 in /usr/local/lib/python3.8/dist-packages (from scikit-learn) (3.1.0)\n",
            "Requirement already satisfied: joblib>=0.11 in /usr/local/lib/python3.8/dist-packages (from scikit-learn) (1.2.0)\n",
            "Requirement already satisfied: scipy>=1.1.0 in /usr/local/lib/python3.8/dist-packages (from scikit-learn) (1.7.3)\n",
            "Requirement already satisfied: numpy>=1.14.6 in /usr/local/lib/python3.8/dist-packages (from scikit-learn) (1.22.4)\n",
            "Looking in indexes: https://pypi.org/simple, https://us-python.pkg.dev/colab-wheels/public/simple/\n",
            "Requirement already satisfied: backtesting in /usr/local/lib/python3.8/dist-packages (0.3.3)\n",
            "Requirement already satisfied: bokeh>=1.4.0 in /usr/local/lib/python3.8/dist-packages (from backtesting) (2.4.3)\n",
            "Requirement already satisfied: numpy>=1.17.0 in /usr/local/lib/python3.8/dist-packages (from backtesting) (1.22.4)\n",
            "Requirement already satisfied: pandas!=0.25.0,>=0.25.0 in /usr/local/lib/python3.8/dist-packages (from backtesting) (1.3.5)\n",
            "Requirement already satisfied: Jinja2>=2.9 in /usr/local/lib/python3.8/dist-packages (from bokeh>=1.4.0->backtesting) (3.1.2)\n",
            "Requirement already satisfied: tornado>=5.1 in /usr/local/lib/python3.8/dist-packages (from bokeh>=1.4.0->backtesting) (6.2)\n",
            "Requirement already satisfied: packaging>=16.8 in /usr/local/lib/python3.8/dist-packages (from bokeh>=1.4.0->backtesting) (23.0)\n",
            "Requirement already satisfied: typing-extensions>=3.10.0 in /usr/local/lib/python3.8/dist-packages (from bokeh>=1.4.0->backtesting) (4.5.0)\n",
            "Requirement already satisfied: PyYAML>=3.10 in /usr/local/lib/python3.8/dist-packages (from bokeh>=1.4.0->backtesting) (6.0)\n",
            "Requirement already satisfied: pillow>=7.1.0 in /usr/local/lib/python3.8/dist-packages (from bokeh>=1.4.0->backtesting) (8.4.0)\n",
            "Requirement already satisfied: python-dateutil>=2.7.3 in /usr/local/lib/python3.8/dist-packages (from pandas!=0.25.0,>=0.25.0->backtesting) (2.8.2)\n",
            "Requirement already satisfied: pytz>=2017.3 in /usr/local/lib/python3.8/dist-packages (from pandas!=0.25.0,>=0.25.0->backtesting) (2022.7.1)\n",
            "Requirement already satisfied: MarkupSafe>=2.0 in /usr/local/lib/python3.8/dist-packages (from Jinja2>=2.9->bokeh>=1.4.0->backtesting) (2.1.2)\n",
            "Requirement already satisfied: six>=1.5 in /usr/local/lib/python3.8/dist-packages (from python-dateutil>=2.7.3->pandas!=0.25.0,>=0.25.0->backtesting) (1.15.0)\n"
          ]
        }
      ]
    },
    {
      "cell_type": "markdown",
      "source": [
        "Get Stocks daily OCHLV data"
      ],
      "metadata": {
        "id": "rFlYijtFkaY9"
      }
    },
    {
      "cell_type": "code",
      "source": [
        "resp = requests.get('http://en.wikipedia.org/wiki/List_of_S%26P_500_companies')\n",
        "soup = bs(resp.text, 'lxml')\n",
        "table = soup.find('table', {'class': 'wikitable sortable'})\n",
        "\n",
        "tickers = []\n",
        "industeries = []\n",
        "for row in table.findAll('tr')[1:]:\n",
        "    ticker = row.findAll('td')[0].text\n",
        "    tickers.append(ticker)\n",
        "    industery = row.findAll('td')[3].text\n",
        "    industeries.append(industery)\n",
        "all_stocks = [x.replace('\\n','') for x in tickers] # remove the new line character\n",
        "all_industeries = [x.replace('\\n','') for x in industeries] # remove the new line character\n",
        "\n"
      ],
      "metadata": {
        "id": "RQP3AmC5kbry"
      },
      "execution_count": 59,
      "outputs": []
    },
    {
      "cell_type": "markdown",
      "source": [
        "Download data from yfinance"
      ],
      "metadata": {
        "id": "WHlgQB_Oknwa"
      }
    },
    {
      "cell_type": "code",
      "source": [
        "all_df = pd.DataFrame()\n",
        "start_date = '2020-01-01'\n",
        "end_date = '2023-01-01'\n",
        "fname_string = 'all_stocks_' + start_date + '_' + end_date + '.csv'\n",
        "\n",
        "\n",
        "for tkr in all_stocks:\n",
        "  single_stock_pd = yf.download(tickers=tkr, start=start_date, end=end_date,auto_adjust=True)\n",
        "  single_stock_pd['stock'] = tkr\n",
        "  all_df = all_df.append(single_stock_pd)\n",
        "\n",
        "all_df.to_csv(fname_string)"
      ],
      "metadata": {
        "id": "c8VAhZHkkqCK",
        "colab": {
          "base_uri": "https://localhost:8080/"
        },
        "outputId": "d65f0bb2-3a42-4dbb-9d4c-e8569204c2b9"
      },
      "execution_count": 60,
      "outputs": [
        {
          "output_type": "stream",
          "name": "stdout",
          "text": [
            "[*********************100%***********************]  1 of 1 completed\n",
            "[*********************100%***********************]  1 of 1 completed\n",
            "[*********************100%***********************]  1 of 1 completed\n",
            "[*********************100%***********************]  1 of 1 completed\n",
            "[*********************100%***********************]  1 of 1 completed\n",
            "[*********************100%***********************]  1 of 1 completed\n",
            "[*********************100%***********************]  1 of 1 completed\n",
            "[*********************100%***********************]  1 of 1 completed\n",
            "[*********************100%***********************]  1 of 1 completed\n",
            "[*********************100%***********************]  1 of 1 completed\n",
            "[*********************100%***********************]  1 of 1 completed\n",
            "[*********************100%***********************]  1 of 1 completed\n",
            "[*********************100%***********************]  1 of 1 completed\n",
            "[*********************100%***********************]  1 of 1 completed\n",
            "[*********************100%***********************]  1 of 1 completed\n",
            "[*********************100%***********************]  1 of 1 completed\n",
            "[*********************100%***********************]  1 of 1 completed\n",
            "[*********************100%***********************]  1 of 1 completed\n",
            "[*********************100%***********************]  1 of 1 completed\n",
            "[*********************100%***********************]  1 of 1 completed\n",
            "[*********************100%***********************]  1 of 1 completed\n",
            "[*********************100%***********************]  1 of 1 completed\n",
            "[*********************100%***********************]  1 of 1 completed\n",
            "[*********************100%***********************]  1 of 1 completed\n",
            "[*********************100%***********************]  1 of 1 completed\n",
            "[*********************100%***********************]  1 of 1 completed\n",
            "[*********************100%***********************]  1 of 1 completed\n",
            "[*********************100%***********************]  1 of 1 completed\n",
            "[*********************100%***********************]  1 of 1 completed\n",
            "[*********************100%***********************]  1 of 1 completed\n",
            "[*********************100%***********************]  1 of 1 completed\n",
            "[*********************100%***********************]  1 of 1 completed\n",
            "[*********************100%***********************]  1 of 1 completed\n",
            "[*********************100%***********************]  1 of 1 completed\n",
            "[*********************100%***********************]  1 of 1 completed\n",
            "[*********************100%***********************]  1 of 1 completed\n",
            "[*********************100%***********************]  1 of 1 completed\n",
            "[*********************100%***********************]  1 of 1 completed\n",
            "[*********************100%***********************]  1 of 1 completed\n",
            "[*********************100%***********************]  1 of 1 completed\n",
            "[*********************100%***********************]  1 of 1 completed\n",
            "[*********************100%***********************]  1 of 1 completed\n",
            "[*********************100%***********************]  1 of 1 completed\n",
            "[*********************100%***********************]  1 of 1 completed\n",
            "[*********************100%***********************]  1 of 1 completed\n",
            "[*********************100%***********************]  1 of 1 completed\n",
            "[*********************100%***********************]  1 of 1 completed\n",
            "[*********************100%***********************]  1 of 1 completed\n",
            "[*********************100%***********************]  1 of 1 completed\n",
            "[*********************100%***********************]  1 of 1 completed\n",
            "[*********************100%***********************]  1 of 1 completed\n",
            "[*********************100%***********************]  1 of 1 completed\n",
            "[*********************100%***********************]  1 of 1 completed\n",
            "[*********************100%***********************]  1 of 1 completed\n",
            "[*********************100%***********************]  1 of 1 completed\n",
            "[*********************100%***********************]  1 of 1 completed\n",
            "[*********************100%***********************]  1 of 1 completed\n",
            "[*********************100%***********************]  1 of 1 completed\n",
            "[*********************100%***********************]  1 of 1 completed\n",
            "[*********************100%***********************]  1 of 1 completed\n",
            "[*********************100%***********************]  1 of 1 completed\n",
            "[*********************100%***********************]  1 of 1 completed\n",
            "[*********************100%***********************]  1 of 1 completed\n",
            "[*********************100%***********************]  1 of 1 completed\n",
            "[*********************100%***********************]  1 of 1 completed\n",
            "\n",
            "1 Failed download:\n",
            "- BRK.B: No timezone found, symbol may be delisted\n",
            "[*********************100%***********************]  1 of 1 completed\n",
            "[*********************100%***********************]  1 of 1 completed\n",
            "[*********************100%***********************]  1 of 1 completed\n",
            "[*********************100%***********************]  1 of 1 completed\n",
            "[*********************100%***********************]  1 of 1 completed\n",
            "[*********************100%***********************]  1 of 1 completed\n",
            "[*********************100%***********************]  1 of 1 completed\n",
            "[*********************100%***********************]  1 of 1 completed\n",
            "[*********************100%***********************]  1 of 1 completed\n",
            "[*********************100%***********************]  1 of 1 completed\n",
            "[*********************100%***********************]  1 of 1 completed\n",
            "[*********************100%***********************]  1 of 1 completed\n",
            "[*********************100%***********************]  1 of 1 completed\n",
            "[*********************100%***********************]  1 of 1 completed\n",
            "[*********************100%***********************]  1 of 1 completed\n",
            "[*********************100%***********************]  1 of 1 completed\n",
            "\n",
            "1 Failed download:\n",
            "- BF.B: No data found for this date range, symbol may be delisted\n",
            "[*********************100%***********************]  1 of 1 completed\n",
            "[*********************100%***********************]  1 of 1 completed\n",
            "[*********************100%***********************]  1 of 1 completed\n",
            "[*********************100%***********************]  1 of 1 completed\n",
            "[*********************100%***********************]  1 of 1 completed\n",
            "[*********************100%***********************]  1 of 1 completed\n",
            "[*********************100%***********************]  1 of 1 completed\n",
            "[*********************100%***********************]  1 of 1 completed\n",
            "[*********************100%***********************]  1 of 1 completed\n",
            "[*********************100%***********************]  1 of 1 completed\n",
            "[*********************100%***********************]  1 of 1 completed\n",
            "[*********************100%***********************]  1 of 1 completed\n",
            "[*********************100%***********************]  1 of 1 completed\n",
            "[*********************100%***********************]  1 of 1 completed\n",
            "[*********************100%***********************]  1 of 1 completed\n",
            "[*********************100%***********************]  1 of 1 completed\n",
            "[*********************100%***********************]  1 of 1 completed\n",
            "[*********************100%***********************]  1 of 1 completed\n",
            "[*********************100%***********************]  1 of 1 completed\n",
            "[*********************100%***********************]  1 of 1 completed\n",
            "[*********************100%***********************]  1 of 1 completed\n",
            "[*********************100%***********************]  1 of 1 completed\n",
            "[*********************100%***********************]  1 of 1 completed\n",
            "[*********************100%***********************]  1 of 1 completed\n",
            "[*********************100%***********************]  1 of 1 completed\n",
            "[*********************100%***********************]  1 of 1 completed\n",
            "[*********************100%***********************]  1 of 1 completed\n",
            "[*********************100%***********************]  1 of 1 completed\n",
            "[*********************100%***********************]  1 of 1 completed\n",
            "[*********************100%***********************]  1 of 1 completed\n",
            "[*********************100%***********************]  1 of 1 completed\n",
            "[*********************100%***********************]  1 of 1 completed\n",
            "[*********************100%***********************]  1 of 1 completed\n",
            "[*********************100%***********************]  1 of 1 completed\n",
            "[*********************100%***********************]  1 of 1 completed\n",
            "[*********************100%***********************]  1 of 1 completed\n",
            "[*********************100%***********************]  1 of 1 completed\n",
            "[*********************100%***********************]  1 of 1 completed\n",
            "[*********************100%***********************]  1 of 1 completed\n",
            "[*********************100%***********************]  1 of 1 completed\n",
            "[*********************100%***********************]  1 of 1 completed\n",
            "[*********************100%***********************]  1 of 1 completed\n",
            "[*********************100%***********************]  1 of 1 completed\n",
            "[*********************100%***********************]  1 of 1 completed\n",
            "[*********************100%***********************]  1 of 1 completed\n",
            "[*********************100%***********************]  1 of 1 completed\n",
            "[*********************100%***********************]  1 of 1 completed\n",
            "[*********************100%***********************]  1 of 1 completed\n",
            "[*********************100%***********************]  1 of 1 completed\n",
            "[*********************100%***********************]  1 of 1 completed\n",
            "[*********************100%***********************]  1 of 1 completed\n",
            "[*********************100%***********************]  1 of 1 completed\n",
            "[*********************100%***********************]  1 of 1 completed\n",
            "[*********************100%***********************]  1 of 1 completed\n",
            "[*********************100%***********************]  1 of 1 completed\n",
            "[*********************100%***********************]  1 of 1 completed\n",
            "[*********************100%***********************]  1 of 1 completed\n",
            "[*********************100%***********************]  1 of 1 completed\n",
            "[*********************100%***********************]  1 of 1 completed\n",
            "[*********************100%***********************]  1 of 1 completed\n",
            "[*********************100%***********************]  1 of 1 completed\n",
            "[*********************100%***********************]  1 of 1 completed\n",
            "[*********************100%***********************]  1 of 1 completed\n",
            "[*********************100%***********************]  1 of 1 completed\n",
            "[*********************100%***********************]  1 of 1 completed\n",
            "[*********************100%***********************]  1 of 1 completed\n",
            "[*********************100%***********************]  1 of 1 completed\n",
            "[*********************100%***********************]  1 of 1 completed\n",
            "[*********************100%***********************]  1 of 1 completed\n",
            "[*********************100%***********************]  1 of 1 completed\n",
            "[*********************100%***********************]  1 of 1 completed\n",
            "[*********************100%***********************]  1 of 1 completed\n",
            "[*********************100%***********************]  1 of 1 completed\n",
            "[*********************100%***********************]  1 of 1 completed\n",
            "[*********************100%***********************]  1 of 1 completed\n",
            "[*********************100%***********************]  1 of 1 completed\n",
            "[*********************100%***********************]  1 of 1 completed\n",
            "[*********************100%***********************]  1 of 1 completed\n",
            "[*********************100%***********************]  1 of 1 completed\n",
            "[*********************100%***********************]  1 of 1 completed\n",
            "[*********************100%***********************]  1 of 1 completed\n",
            "[*********************100%***********************]  1 of 1 completed\n",
            "[*********************100%***********************]  1 of 1 completed\n",
            "[*********************100%***********************]  1 of 1 completed\n",
            "[*********************100%***********************]  1 of 1 completed\n",
            "[*********************100%***********************]  1 of 1 completed\n",
            "[*********************100%***********************]  1 of 1 completed\n",
            "[*********************100%***********************]  1 of 1 completed\n",
            "[*********************100%***********************]  1 of 1 completed\n",
            "[*********************100%***********************]  1 of 1 completed\n",
            "[*********************100%***********************]  1 of 1 completed\n",
            "[*********************100%***********************]  1 of 1 completed\n",
            "[*********************100%***********************]  1 of 1 completed\n",
            "[*********************100%***********************]  1 of 1 completed\n",
            "[*********************100%***********************]  1 of 1 completed\n",
            "[*********************100%***********************]  1 of 1 completed\n",
            "[*********************100%***********************]  1 of 1 completed\n",
            "[*********************100%***********************]  1 of 1 completed\n",
            "[*********************100%***********************]  1 of 1 completed\n",
            "[*********************100%***********************]  1 of 1 completed\n",
            "[*********************100%***********************]  1 of 1 completed\n",
            "[*********************100%***********************]  1 of 1 completed\n",
            "[*********************100%***********************]  1 of 1 completed\n",
            "[*********************100%***********************]  1 of 1 completed\n",
            "[*********************100%***********************]  1 of 1 completed\n",
            "[*********************100%***********************]  1 of 1 completed\n",
            "[*********************100%***********************]  1 of 1 completed\n",
            "[*********************100%***********************]  1 of 1 completed\n",
            "[*********************100%***********************]  1 of 1 completed\n",
            "[*********************100%***********************]  1 of 1 completed\n",
            "[*********************100%***********************]  1 of 1 completed\n",
            "[*********************100%***********************]  1 of 1 completed\n",
            "[*********************100%***********************]  1 of 1 completed\n",
            "[*********************100%***********************]  1 of 1 completed\n",
            "[*********************100%***********************]  1 of 1 completed\n",
            "[*********************100%***********************]  1 of 1 completed\n",
            "[*********************100%***********************]  1 of 1 completed\n",
            "[*********************100%***********************]  1 of 1 completed\n",
            "[*********************100%***********************]  1 of 1 completed\n",
            "[*********************100%***********************]  1 of 1 completed\n",
            "[*********************100%***********************]  1 of 1 completed\n",
            "[*********************100%***********************]  1 of 1 completed\n",
            "[*********************100%***********************]  1 of 1 completed\n",
            "[*********************100%***********************]  1 of 1 completed\n",
            "[*********************100%***********************]  1 of 1 completed\n",
            "[*********************100%***********************]  1 of 1 completed\n",
            "[*********************100%***********************]  1 of 1 completed\n",
            "[*********************100%***********************]  1 of 1 completed\n",
            "[*********************100%***********************]  1 of 1 completed\n",
            "[*********************100%***********************]  1 of 1 completed\n",
            "[*********************100%***********************]  1 of 1 completed\n",
            "[*********************100%***********************]  1 of 1 completed\n",
            "[*********************100%***********************]  1 of 1 completed\n",
            "[*********************100%***********************]  1 of 1 completed\n",
            "[*********************100%***********************]  1 of 1 completed\n",
            "[*********************100%***********************]  1 of 1 completed\n",
            "[*********************100%***********************]  1 of 1 completed\n",
            "[*********************100%***********************]  1 of 1 completed\n",
            "[*********************100%***********************]  1 of 1 completed\n",
            "[*********************100%***********************]  1 of 1 completed\n",
            "[*********************100%***********************]  1 of 1 completed\n",
            "[*********************100%***********************]  1 of 1 completed\n",
            "[*********************100%***********************]  1 of 1 completed\n",
            "[*********************100%***********************]  1 of 1 completed\n",
            "[*********************100%***********************]  1 of 1 completed\n",
            "[*********************100%***********************]  1 of 1 completed\n",
            "[*********************100%***********************]  1 of 1 completed\n",
            "[*********************100%***********************]  1 of 1 completed\n",
            "[*********************100%***********************]  1 of 1 completed\n",
            "[*********************100%***********************]  1 of 1 completed\n",
            "[*********************100%***********************]  1 of 1 completed\n",
            "[*********************100%***********************]  1 of 1 completed\n",
            "[*********************100%***********************]  1 of 1 completed\n",
            "[*********************100%***********************]  1 of 1 completed\n",
            "[*********************100%***********************]  1 of 1 completed\n",
            "[*********************100%***********************]  1 of 1 completed\n",
            "[*********************100%***********************]  1 of 1 completed\n",
            "[*********************100%***********************]  1 of 1 completed\n",
            "[*********************100%***********************]  1 of 1 completed\n",
            "[*********************100%***********************]  1 of 1 completed\n",
            "[*********************100%***********************]  1 of 1 completed\n",
            "[*********************100%***********************]  1 of 1 completed\n",
            "[*********************100%***********************]  1 of 1 completed\n",
            "[*********************100%***********************]  1 of 1 completed\n",
            "[*********************100%***********************]  1 of 1 completed\n",
            "[*********************100%***********************]  1 of 1 completed\n",
            "[*********************100%***********************]  1 of 1 completed\n",
            "[*********************100%***********************]  1 of 1 completed\n",
            "[*********************100%***********************]  1 of 1 completed\n",
            "[*********************100%***********************]  1 of 1 completed\n",
            "[*********************100%***********************]  1 of 1 completed\n",
            "[*********************100%***********************]  1 of 1 completed\n",
            "[*********************100%***********************]  1 of 1 completed\n",
            "[*********************100%***********************]  1 of 1 completed\n",
            "[*********************100%***********************]  1 of 1 completed\n",
            "[*********************100%***********************]  1 of 1 completed\n",
            "[*********************100%***********************]  1 of 1 completed\n",
            "[*********************100%***********************]  1 of 1 completed\n",
            "[*********************100%***********************]  1 of 1 completed\n",
            "[*********************100%***********************]  1 of 1 completed\n",
            "[*********************100%***********************]  1 of 1 completed\n",
            "[*********************100%***********************]  1 of 1 completed\n",
            "[*********************100%***********************]  1 of 1 completed\n",
            "[*********************100%***********************]  1 of 1 completed\n",
            "[*********************100%***********************]  1 of 1 completed\n",
            "[*********************100%***********************]  1 of 1 completed\n",
            "[*********************100%***********************]  1 of 1 completed\n",
            "[*********************100%***********************]  1 of 1 completed\n",
            "[*********************100%***********************]  1 of 1 completed\n",
            "[*********************100%***********************]  1 of 1 completed\n",
            "[*********************100%***********************]  1 of 1 completed\n",
            "[*********************100%***********************]  1 of 1 completed\n",
            "[*********************100%***********************]  1 of 1 completed\n",
            "[*********************100%***********************]  1 of 1 completed\n",
            "[*********************100%***********************]  1 of 1 completed\n",
            "[*********************100%***********************]  1 of 1 completed\n",
            "[*********************100%***********************]  1 of 1 completed\n",
            "[*********************100%***********************]  1 of 1 completed\n",
            "[*********************100%***********************]  1 of 1 completed\n",
            "[*********************100%***********************]  1 of 1 completed\n",
            "[*********************100%***********************]  1 of 1 completed\n",
            "[*********************100%***********************]  1 of 1 completed\n",
            "[*********************100%***********************]  1 of 1 completed\n",
            "[*********************100%***********************]  1 of 1 completed\n",
            "[*********************100%***********************]  1 of 1 completed\n",
            "[*********************100%***********************]  1 of 1 completed\n",
            "[*********************100%***********************]  1 of 1 completed\n",
            "[*********************100%***********************]  1 of 1 completed\n",
            "[*********************100%***********************]  1 of 1 completed\n",
            "[*********************100%***********************]  1 of 1 completed\n",
            "[*********************100%***********************]  1 of 1 completed\n",
            "[*********************100%***********************]  1 of 1 completed\n",
            "[*********************100%***********************]  1 of 1 completed\n",
            "[*********************100%***********************]  1 of 1 completed\n",
            "[*********************100%***********************]  1 of 1 completed\n",
            "[*********************100%***********************]  1 of 1 completed\n",
            "[*********************100%***********************]  1 of 1 completed\n",
            "[*********************100%***********************]  1 of 1 completed\n",
            "[*********************100%***********************]  1 of 1 completed\n",
            "[*********************100%***********************]  1 of 1 completed\n",
            "[*********************100%***********************]  1 of 1 completed\n",
            "[*********************100%***********************]  1 of 1 completed\n",
            "[*********************100%***********************]  1 of 1 completed\n",
            "[*********************100%***********************]  1 of 1 completed\n",
            "[*********************100%***********************]  1 of 1 completed\n",
            "[*********************100%***********************]  1 of 1 completed\n",
            "[*********************100%***********************]  1 of 1 completed\n",
            "[*********************100%***********************]  1 of 1 completed\n",
            "[*********************100%***********************]  1 of 1 completed\n",
            "[*********************100%***********************]  1 of 1 completed\n",
            "[*********************100%***********************]  1 of 1 completed\n",
            "[*********************100%***********************]  1 of 1 completed\n",
            "[*********************100%***********************]  1 of 1 completed\n",
            "[*********************100%***********************]  1 of 1 completed\n",
            "[*********************100%***********************]  1 of 1 completed\n",
            "[*********************100%***********************]  1 of 1 completed\n",
            "[*********************100%***********************]  1 of 1 completed\n",
            "[*********************100%***********************]  1 of 1 completed\n",
            "[*********************100%***********************]  1 of 1 completed\n",
            "[*********************100%***********************]  1 of 1 completed\n",
            "[*********************100%***********************]  1 of 1 completed\n",
            "[*********************100%***********************]  1 of 1 completed\n",
            "[*********************100%***********************]  1 of 1 completed\n",
            "[*********************100%***********************]  1 of 1 completed\n",
            "[*********************100%***********************]  1 of 1 completed\n",
            "[*********************100%***********************]  1 of 1 completed\n",
            "[*********************100%***********************]  1 of 1 completed\n",
            "[*********************100%***********************]  1 of 1 completed\n",
            "[*********************100%***********************]  1 of 1 completed\n",
            "[*********************100%***********************]  1 of 1 completed\n",
            "[*********************100%***********************]  1 of 1 completed\n",
            "[*********************100%***********************]  1 of 1 completed\n",
            "[*********************100%***********************]  1 of 1 completed\n",
            "[*********************100%***********************]  1 of 1 completed\n",
            "[*********************100%***********************]  1 of 1 completed\n",
            "[*********************100%***********************]  1 of 1 completed\n",
            "[*********************100%***********************]  1 of 1 completed\n",
            "[*********************100%***********************]  1 of 1 completed\n",
            "[*********************100%***********************]  1 of 1 completed\n",
            "[*********************100%***********************]  1 of 1 completed\n",
            "[*********************100%***********************]  1 of 1 completed\n",
            "[*********************100%***********************]  1 of 1 completed\n",
            "[*********************100%***********************]  1 of 1 completed\n",
            "[*********************100%***********************]  1 of 1 completed\n",
            "[*********************100%***********************]  1 of 1 completed\n",
            "[*********************100%***********************]  1 of 1 completed\n",
            "[*********************100%***********************]  1 of 1 completed\n",
            "[*********************100%***********************]  1 of 1 completed\n",
            "[*********************100%***********************]  1 of 1 completed\n",
            "[*********************100%***********************]  1 of 1 completed\n",
            "[*********************100%***********************]  1 of 1 completed\n",
            "[*********************100%***********************]  1 of 1 completed\n",
            "[*********************100%***********************]  1 of 1 completed\n",
            "[*********************100%***********************]  1 of 1 completed\n",
            "[*********************100%***********************]  1 of 1 completed\n",
            "[*********************100%***********************]  1 of 1 completed\n",
            "[*********************100%***********************]  1 of 1 completed\n",
            "[*********************100%***********************]  1 of 1 completed\n",
            "[*********************100%***********************]  1 of 1 completed\n",
            "[*********************100%***********************]  1 of 1 completed\n",
            "[*********************100%***********************]  1 of 1 completed\n",
            "[*********************100%***********************]  1 of 1 completed\n",
            "[*********************100%***********************]  1 of 1 completed\n",
            "[*********************100%***********************]  1 of 1 completed\n",
            "[*********************100%***********************]  1 of 1 completed\n",
            "[*********************100%***********************]  1 of 1 completed\n",
            "[*********************100%***********************]  1 of 1 completed\n",
            "[*********************100%***********************]  1 of 1 completed\n",
            "[*********************100%***********************]  1 of 1 completed\n",
            "[*********************100%***********************]  1 of 1 completed\n",
            "[*********************100%***********************]  1 of 1 completed\n",
            "[*********************100%***********************]  1 of 1 completed\n",
            "[*********************100%***********************]  1 of 1 completed\n",
            "[*********************100%***********************]  1 of 1 completed\n",
            "[*********************100%***********************]  1 of 1 completed\n",
            "[*********************100%***********************]  1 of 1 completed\n",
            "[*********************100%***********************]  1 of 1 completed\n",
            "[*********************100%***********************]  1 of 1 completed\n",
            "[*********************100%***********************]  1 of 1 completed\n",
            "[*********************100%***********************]  1 of 1 completed\n",
            "[*********************100%***********************]  1 of 1 completed\n",
            "[*********************100%***********************]  1 of 1 completed\n",
            "[*********************100%***********************]  1 of 1 completed\n",
            "[*********************100%***********************]  1 of 1 completed\n",
            "[*********************100%***********************]  1 of 1 completed\n",
            "[*********************100%***********************]  1 of 1 completed\n",
            "[*********************100%***********************]  1 of 1 completed\n",
            "[*********************100%***********************]  1 of 1 completed\n",
            "[*********************100%***********************]  1 of 1 completed\n",
            "[*********************100%***********************]  1 of 1 completed\n",
            "[*********************100%***********************]  1 of 1 completed\n",
            "[*********************100%***********************]  1 of 1 completed\n",
            "[*********************100%***********************]  1 of 1 completed\n",
            "[*********************100%***********************]  1 of 1 completed\n",
            "[*********************100%***********************]  1 of 1 completed\n",
            "[*********************100%***********************]  1 of 1 completed\n",
            "[*********************100%***********************]  1 of 1 completed\n",
            "[*********************100%***********************]  1 of 1 completed\n",
            "[*********************100%***********************]  1 of 1 completed\n",
            "[*********************100%***********************]  1 of 1 completed\n",
            "[*********************100%***********************]  1 of 1 completed\n",
            "[*********************100%***********************]  1 of 1 completed\n",
            "[*********************100%***********************]  1 of 1 completed\n",
            "[*********************100%***********************]  1 of 1 completed\n",
            "[*********************100%***********************]  1 of 1 completed\n",
            "[*********************100%***********************]  1 of 1 completed\n",
            "[*********************100%***********************]  1 of 1 completed\n",
            "[*********************100%***********************]  1 of 1 completed\n",
            "[*********************100%***********************]  1 of 1 completed\n",
            "[*********************100%***********************]  1 of 1 completed\n",
            "[*********************100%***********************]  1 of 1 completed\n",
            "[*********************100%***********************]  1 of 1 completed\n",
            "[*********************100%***********************]  1 of 1 completed\n",
            "[*********************100%***********************]  1 of 1 completed\n",
            "[*********************100%***********************]  1 of 1 completed\n",
            "[*********************100%***********************]  1 of 1 completed\n",
            "[*********************100%***********************]  1 of 1 completed\n",
            "[*********************100%***********************]  1 of 1 completed\n",
            "[*********************100%***********************]  1 of 1 completed\n",
            "[*********************100%***********************]  1 of 1 completed\n",
            "[*********************100%***********************]  1 of 1 completed\n",
            "[*********************100%***********************]  1 of 1 completed\n",
            "[*********************100%***********************]  1 of 1 completed\n",
            "[*********************100%***********************]  1 of 1 completed\n",
            "[*********************100%***********************]  1 of 1 completed\n",
            "[*********************100%***********************]  1 of 1 completed\n",
            "[*********************100%***********************]  1 of 1 completed\n",
            "[*********************100%***********************]  1 of 1 completed\n",
            "[*********************100%***********************]  1 of 1 completed\n",
            "[*********************100%***********************]  1 of 1 completed\n",
            "[*********************100%***********************]  1 of 1 completed\n",
            "[*********************100%***********************]  1 of 1 completed\n",
            "[*********************100%***********************]  1 of 1 completed\n",
            "[*********************100%***********************]  1 of 1 completed\n",
            "[*********************100%***********************]  1 of 1 completed\n",
            "[*********************100%***********************]  1 of 1 completed\n",
            "[*********************100%***********************]  1 of 1 completed\n",
            "[*********************100%***********************]  1 of 1 completed\n",
            "[*********************100%***********************]  1 of 1 completed\n",
            "[*********************100%***********************]  1 of 1 completed\n",
            "[*********************100%***********************]  1 of 1 completed\n",
            "[*********************100%***********************]  1 of 1 completed\n",
            "[*********************100%***********************]  1 of 1 completed\n",
            "[*********************100%***********************]  1 of 1 completed\n",
            "[*********************100%***********************]  1 of 1 completed\n",
            "[*********************100%***********************]  1 of 1 completed\n",
            "[*********************100%***********************]  1 of 1 completed\n",
            "[*********************100%***********************]  1 of 1 completed\n",
            "[*********************100%***********************]  1 of 1 completed\n",
            "[*********************100%***********************]  1 of 1 completed\n",
            "[*********************100%***********************]  1 of 1 completed\n",
            "[*********************100%***********************]  1 of 1 completed\n",
            "[*********************100%***********************]  1 of 1 completed\n",
            "[*********************100%***********************]  1 of 1 completed\n",
            "[*********************100%***********************]  1 of 1 completed\n",
            "[*********************100%***********************]  1 of 1 completed\n",
            "[*********************100%***********************]  1 of 1 completed\n",
            "[*********************100%***********************]  1 of 1 completed\n",
            "[*********************100%***********************]  1 of 1 completed\n",
            "[*********************100%***********************]  1 of 1 completed\n",
            "[*********************100%***********************]  1 of 1 completed\n",
            "[*********************100%***********************]  1 of 1 completed\n",
            "[*********************100%***********************]  1 of 1 completed\n",
            "[*********************100%***********************]  1 of 1 completed\n",
            "[*********************100%***********************]  1 of 1 completed\n",
            "[*********************100%***********************]  1 of 1 completed\n",
            "[*********************100%***********************]  1 of 1 completed\n",
            "[*********************100%***********************]  1 of 1 completed\n",
            "[*********************100%***********************]  1 of 1 completed\n",
            "[*********************100%***********************]  1 of 1 completed\n",
            "[*********************100%***********************]  1 of 1 completed\n",
            "[*********************100%***********************]  1 of 1 completed\n",
            "[*********************100%***********************]  1 of 1 completed\n",
            "[*********************100%***********************]  1 of 1 completed\n",
            "[*********************100%***********************]  1 of 1 completed\n",
            "[*********************100%***********************]  1 of 1 completed\n",
            "[*********************100%***********************]  1 of 1 completed\n",
            "[*********************100%***********************]  1 of 1 completed\n",
            "[*********************100%***********************]  1 of 1 completed\n",
            "[*********************100%***********************]  1 of 1 completed\n",
            "[*********************100%***********************]  1 of 1 completed\n",
            "[*********************100%***********************]  1 of 1 completed\n",
            "[*********************100%***********************]  1 of 1 completed\n",
            "[*********************100%***********************]  1 of 1 completed\n",
            "[*********************100%***********************]  1 of 1 completed\n",
            "[*********************100%***********************]  1 of 1 completed\n",
            "[*********************100%***********************]  1 of 1 completed\n",
            "[*********************100%***********************]  1 of 1 completed\n",
            "[*********************100%***********************]  1 of 1 completed\n",
            "[*********************100%***********************]  1 of 1 completed\n",
            "[*********************100%***********************]  1 of 1 completed\n",
            "[*********************100%***********************]  1 of 1 completed\n",
            "[*********************100%***********************]  1 of 1 completed\n",
            "[*********************100%***********************]  1 of 1 completed\n",
            "[*********************100%***********************]  1 of 1 completed\n",
            "[*********************100%***********************]  1 of 1 completed\n",
            "[*********************100%***********************]  1 of 1 completed\n",
            "[*********************100%***********************]  1 of 1 completed\n",
            "[*********************100%***********************]  1 of 1 completed\n",
            "[*********************100%***********************]  1 of 1 completed\n",
            "[*********************100%***********************]  1 of 1 completed\n",
            "[*********************100%***********************]  1 of 1 completed\n"
          ]
        }
      ]
    },
    {
      "cell_type": "markdown",
      "source": [
        "Calculate Features & Target values for all stocks"
      ],
      "metadata": {
        "id": "kl8fBX8BkuKr"
      }
    },
    {
      "cell_type": "code",
      "source": [
        "all_df = pd.read_csv(fname_string)\n",
        "all_df['dt'] = pd.to_datetime(all_df['Date'])\n",
        "all_df['t0'] = (all_df['dt'] - all_df['dt'].min()).dt.days.astype(float)\n",
        "\n",
        "\n",
        "def get_features_df(start_train_features_day):\n",
        "  # Split the data to segments (6 months features, 3 months labelling)\n",
        "  FEATURES_SIZE = 180 \n",
        "  LABELLING_SIZE = 90\n",
        "  end_train_features_day = start_train_features_day + FEATURES_SIZE\n",
        "  start_train_labelling_day = end_train_features_day + 1 \n",
        "  end_train_labelling_day = start_train_labelling_day + LABELLING_SIZE\n",
        "  features_df = all_df[(all_df['t0'] >= start_train_features_day)&(all_df['t0'] < end_train_features_day)]\n",
        "  labelling_df = all_df[(all_df['t0'] >= start_train_labelling_day)&(all_df['t0'] < end_train_labelling_day)]\n",
        "\n",
        "  #week df\n",
        "  features_df.loc[:,'week_index'] = (features_df['t0'] / 7).astype(int)\n",
        "  weekly_features_df = features_df.groupby(['stock','week_index']).apply(calculate_returns).reset_index()\n",
        "\n",
        "  #month df\n",
        "  features_df.loc[:,'month_index'] = (features_df['t0'] / 30).astype(int)\n",
        "  monthly_features_df = features_df.groupby(['stock','month_index']).apply(calculate_returns).reset_index()\n",
        "\n",
        "  return features_df, labelling_df\n",
        "\n",
        "def calculate_returns(x):\n",
        "  return 100*(x.iloc[-1]['Close'] - x.iloc[0]['Open'])/x.iloc[0]['Open']\n"
      ],
      "metadata": {
        "id": "yNA4NZSck9RW"
      },
      "execution_count": 61,
      "outputs": []
    },
    {
      "cell_type": "markdown",
      "source": [
        "Price movement threshold - labelling time"
      ],
      "metadata": {
        "id": "GrUxLkO-oBDc"
      }
    },
    {
      "cell_type": "code",
      "source": [
        "def add_label_to_labelling_df(labelling_df):\n",
        "  lbl_returns = labelling_df.groupby('stock').apply(lambda x: calculate_returns(x)).reset_index()\n",
        "  lbl_returns.columns = ['stock', 'pct_price_movement']\n",
        "  threshold = lbl_returns['pct_price_movement'].median()\n",
        "  lbl_returns['label'] = (lbl_returns['pct_price_movement']>threshold).astype(int)\n",
        "  return lbl_returns.set_index('stock')"
      ],
      "metadata": {
        "id": "-RMsMjr45AbG"
      },
      "execution_count": 62,
      "outputs": []
    },
    {
      "cell_type": "markdown",
      "source": [
        "# 1.1 + 1.2"
      ],
      "metadata": {
        "id": "3lTRrid2Tp5Q"
      }
    },
    {
      "cell_type": "markdown",
      "source": [
        "picking out 1 feature (rsi of the stock's last week) and caculating its threshold"
      ],
      "metadata": {
        "id": "44ycqVOU7NVW"
      }
    },
    {
      "cell_type": "code",
      "source": [
        "one_ft_df, one_lb_df = get_features_df(0)\n",
        "#החישוב ממוצע RSI של שבוע אחרון\n",
        "one_rsis = one_ft_df.groupby('stock')['Close'].apply(ta.rsi)\n",
        "one_ft_df['rsi'] = one_rsis\n",
        "rsi_df = one_ft_df.loc[one_ft_df['week_index'] == 25].groupby('stock')['rsi'].mean().reset_index(name='rsi')\n",
        "\n",
        "rsi_df.columns = ['stock', 'rsi']\n",
        "threshold = rsi_df['rsi'].median()\n",
        "# threshold = 35\n",
        "rsi_df['label'] = (rsi_df['rsi'] < threshold).astype(int)\n",
        "lbl_returns = add_label_to_labelling_df(one_lb_df)\n",
        "regression_df = pd.merge(lbl_returns, rsi_df, on='stock')\n",
        "rsi_df.set_index('stock', inplace=True)\n",
        "rsi_df['label'].value_counts()"
      ],
      "metadata": {
        "id": "CY6wvYT9TsDq",
        "colab": {
          "base_uri": "https://localhost:8080/"
        },
        "outputId": "cdcc1192-f46d-41f7-ad7d-3b5f4e0a5f23"
      },
      "execution_count": 63,
      "outputs": [
        {
          "output_type": "stream",
          "name": "stderr",
          "text": [
            "/usr/local/lib/python3.8/dist-packages/pandas/core/indexing.py:1667: SettingWithCopyWarning: \n",
            "A value is trying to be set on a copy of a slice from a DataFrame.\n",
            "Try using .loc[row_indexer,col_indexer] = value instead\n",
            "\n",
            "See the caveats in the documentation: https://pandas.pydata.org/pandas-docs/stable/user_guide/indexing.html#returning-a-view-versus-a-copy\n",
            "  self.obj[key] = value\n",
            "<ipython-input-63-2f2247199a74>:4: SettingWithCopyWarning: \n",
            "A value is trying to be set on a copy of a slice from a DataFrame.\n",
            "Try using .loc[row_indexer,col_indexer] = value instead\n",
            "\n",
            "See the caveats in the documentation: https://pandas.pydata.org/pandas-docs/stable/user_guide/indexing.html#returning-a-view-versus-a-copy\n",
            "  one_ft_df['rsi'] = one_rsis\n"
          ]
        },
        {
          "output_type": "execute_result",
          "data": {
            "text/plain": [
              "0    249\n",
              "1    249\n",
              "Name: label, dtype: int64"
            ]
          },
          "metadata": {},
          "execution_count": 63
        }
      ]
    },
    {
      "cell_type": "markdown",
      "source": [
        "corrolation between our feature to the stock's value"
      ],
      "metadata": {
        "id": "B_Hqg3oR0ETl"
      }
    },
    {
      "cell_type": "code",
      "source": [
        "from scipy.stats import pearsonr\n",
        "# Merge the two dataframes on stock symbols\n",
        "#lbl_returns = add_label_to_labelling_df(one_lb_df)\n",
        "#regression_df = pd.merge(lbl_returns, rsi_df, on='stock')\n",
        "\n",
        "x = regression_df['pct_price_movement']\n",
        "y = regression_df['rsi']\n",
        "r, p = pearsonr(x, y)\n",
        "print(\"Pearson correlation coefficient: \", r)\n",
        "print(\"p-value: \", p)"
      ],
      "metadata": {
        "id": "KtfbuptArELk",
        "colab": {
          "base_uri": "https://localhost:8080/"
        },
        "outputId": "3455445b-d95b-4fc7-93b4-1e8590bd9077"
      },
      "execution_count": 64,
      "outputs": [
        {
          "output_type": "stream",
          "name": "stdout",
          "text": [
            "Pearson correlation coefficient:  0.12521356593608143\n",
            "p-value:  0.005137972154046418\n"
          ]
        }
      ]
    },
    {
      "cell_type": "markdown",
      "source": [
        "regression between our feature to the stock's value"
      ],
      "metadata": {
        "id": "HTlomGVL0RvQ"
      }
    },
    {
      "cell_type": "code",
      "source": [
        "import numpy as np\n",
        "from sklearn.linear_model import LinearRegression\n",
        "\n",
        "x = np.array(regression_df['rsi']).reshape(-1,1)\n",
        "y = np.array(regression_df['pct_price_movement'])\n",
        "reg = LinearRegression().fit(x, y)\n",
        "rsi_predicted = reg.predict(x)\n",
        "regression_df['rsi_predicted'] = rsi_predicted\n",
        "print(\"Intercept: \", reg.intercept_)\n",
        "print(\"Coefficient : \",reg.coef_)"
      ],
      "metadata": {
        "id": "jDe7MkT90CYn",
        "colab": {
          "base_uri": "https://localhost:8080/"
        },
        "outputId": "3ca59121-9ce7-4208-9572-0e64b6f4aaa5"
      },
      "execution_count": 65,
      "outputs": [
        {
          "output_type": "stream",
          "name": "stdout",
          "text": [
            "Intercept:  -5.895473755392786\n",
            "Coefficient :  [0.27346542]\n"
          ]
        }
      ]
    },
    {
      "cell_type": "markdown",
      "source": [
        "Showing the corrolation between the choosen feature and the yield of the stocks in the next 3 monthes. "
      ],
      "metadata": {
        "id": "JE4CgXeum_YZ"
      }
    },
    {
      "cell_type": "code",
      "source": [
        "\n",
        "# Extract stocks labeled as 1 for both RSI and yield\n",
        "rsi_lbl_1 = rsi_df[rsi_df['label'] == 1]\n",
        "yield_lbl_1 = lbl_returns[lbl_returns['label'] == 1]\n",
        "\n",
        "# Merge the two dataframes on stock symbols\n",
        "merged_df = pd.merge(rsi_lbl_1, yield_lbl_1, on='stock')\n",
        "\n",
        "# Create a scatter plot\n",
        "plt.scatter(merged_df['rsi'], merged_df['pct_price_movement'])\n",
        "plt.xlabel('RSI')\n",
        "plt.ylabel('Yield')\n",
        "plt.title('Correlation between RSI and Yield for stocks labeled as 1')\n",
        "plt.show()\n",
        "#This code will extract the stocks with RSI labeled as 1 and yield labeled as 1, merge them based on their stock symbols, and create a scatter plot with RSI on the x-axis and yield on the y-axis. This will show the correlation between the two variables for stocks labeled as 1 in both RSI and yield.\n",
        "\n",
        "\n",
        "\n"
      ],
      "metadata": {
        "id": "Zrwt-fb0Zc2z",
        "colab": {
          "base_uri": "https://localhost:8080/",
          "height": 295
        },
        "outputId": "ae9a57a5-0e4c-4253-bf14-3210c1e0060c"
      },
      "execution_count": 66,
      "outputs": [
        {
          "output_type": "display_data",
          "data": {
            "text/plain": [
              "<Figure size 432x288 with 1 Axes>"
            ],
            "image/png": "[encoded data removed]"
          },
          "metadata": {
            "needs_background": "light"
          }
        }
      ]
    },
    {
      "cell_type": "markdown",
      "source": [
        "showing the differences between the stocks labled 1 and 0, by our feature"
      ],
      "metadata": {
        "id": "WK8xh_JVui2z"
      }
    },
    {
      "cell_type": "code",
      "source": [
        "from scipy.stats import skew\n",
        "from scipy.stats import kurtosis\n",
        "# Merge dataframes by stock symbol\n",
        "merged_df_2 = pd.merge(rsi_df, lbl_returns, on='stock')\n",
        "\n",
        "def differences_0_1(merged_df_2):\n",
        "  # Calculate difference in yield between RSI labeled groups\n",
        "  group_1_yield = merged_df_2[merged_df_2['label_x'] == 1]['pct_price_movement']\n",
        "  group_0_yield = merged_df_2[merged_df_2['label_x'] == 0]['pct_price_movement']\n",
        "  yield_diff = group_1_yield.mean() - group_0_yield.mean()\n",
        "\n",
        "  # Calculate difference in mean between RSI labeled groups\n",
        "  group_1_mean = merged_df_2[merged_df_2['label_x'] == 1]['pct_price_movement'].mean()\n",
        "  group_0_mean = merged_df_2[merged_df_2['label_x'] == 0]['pct_price_movement'].mean()\n",
        "  mean_diff = group_1_mean - group_0_mean\n",
        "\n",
        "  # Calculate difference in median between RSI labeled groups\n",
        "  group_1_median = merged_df_2[merged_df_2['label_x'] == 1]['pct_price_movement'].median()\n",
        "  group_0_median = merged_df_2[merged_df_2['label_x'] == 0]['pct_price_movement'].median()\n",
        "  median_diff = group_1_median - group_0_median\n",
        "\n",
        "  # Plot boxplots of yield for the two groups\n",
        "  plt.boxplot([group_1_yield, group_0_yield], labels=['RSI 1', 'RSI 0'])\n",
        "  plt.ylabel('Pct Price Movement')\n",
        "  plt.title('Comparison of Yield for RSI Labeled Groups')\n",
        "  plt.show()\n",
        "\n",
        "  # Plot histograms of price for the two groups\n",
        "  plt.hist(group_1_median, alpha=0.5, label='RSI 1')\n",
        "  plt.hist(group_0_median, alpha=0.5, label='RSI 0')\n",
        "  plt.xlabel('Price movement')\n",
        "  plt.ylabel('Count')\n",
        "  plt.legend(loc='upper right')\n",
        "  plt.title('Comparison of median yield for RSI Labeled Groups')\n",
        "  plt.show()\n",
        "\n",
        "  # Calculate 20% percentile value for both groups\n",
        "  group_1_20pct = np.percentile(group_1_yield, 20)\n",
        "  group_0_20pct = np.percentile(group_0_yield, 20)\n",
        "  pct_diff = group_1_20pct - group_0_20pct\n",
        "\n",
        "  # Calculate skewness for both groups\n",
        "  group_1_skew = skew(group_1_yield)\n",
        "  group_0_skew = skew(group_0_yield)\n",
        "  skew_diff = group_1_skew - group_0_skew\n",
        "\n",
        "  # Calculate kurtosis for both groups\n",
        "  group_1_kurtosis = kurtosis(group_1_yield)\n",
        "  group_0_kurtosis = kurtosis(group_0_yield)\n",
        "  kurtosis_diff = group_1_kurtosis - group_0_kurtosis\n",
        "\n",
        "  # Print out the results\n",
        "  print(f'20% Percentile Yield Difference: {pct_diff:.2f}')\n",
        "  print(f'Skewness of Yield Difference: {skew_diff:.2f}')\n",
        "  print(f'Kurtosis of Yield Difference: {kurtosis_diff:.2f}')\n",
        "  print(f'Yield Difference: {yield_diff:.2%}')\n",
        "  print(f'Mean Difference: {mean_diff:.2f}')\n",
        "  print(f'Median Difference: {median_diff:.2f}')\n",
        "\n",
        "differences_0_1(merged_df_2)"
      ],
      "metadata": {
        "id": "aYsgIvjX6g-U",
        "colab": {
          "base_uri": "https://localhost:8080/",
          "height": 663
        },
        "outputId": "2ec58c21-3bbf-418c-aa5a-b4abb1298e7e"
      },
      "execution_count": 67,
      "outputs": [
        {
          "output_type": "display_data",
          "data": {
            "text/plain": [
              "<Figure size 432x288 with 1 Axes>"
            ],
            "image/png": "[encoded data removed]"
          },
          "metadata": {
            "needs_background": "light"
          }
        },
        {
          "output_type": "display_data",
          "data": {
            "text/plain": [
              "<Figure size 432x288 with 1 Axes>"
            ],
            "image/png": "[encoded data removed]"
          },
          "metadata": {
            "needs_background": "light"
          }
        },
        {
          "output_type": "stream",
          "name": "stdout",
          "text": [
            "20% Percentile Yield Difference: -2.21\n",
            "Skewness of Yield Difference: 0.76\n",
            "Kurtosis of Yield Difference: 4.44\n",
            "Yield Difference: -329.39%\n",
            "Mean Difference: -3.29\n",
            "Median Difference: -3.32\n"
          ]
        }
      ]
    },
    {
      "cell_type": "markdown",
      "source": [
        "confusion matrix, precision, recall"
      ],
      "metadata": {
        "id": "d8_JQ5Ox-0R2"
      }
    },
    {
      "cell_type": "code",
      "source": [
        "from sklearn.metrics import confusion_matrix, precision_score, recall_score\n",
        "def show_differences(rsi_df):\n",
        "  # Define the true labels and predicted labels based on the threshold\n",
        "  true_labels = lbl_returns['label']\n",
        "  predicted_labels = (rsi_df['rsi'] < threshold).astype(int)\n",
        "\n",
        "  # Calculate the confusion matrix, precision, and recall\n",
        "  true_positive = len(rsi_df[(rsi_df['label'] == lbl_returns['label'])&(rsi_df['label']==True)])\n",
        "  true_negative = len(rsi_df[(rsi_df['label'] == lbl_returns['label'])&(rsi_df['label']==False)])\n",
        "  false_positive = len(rsi_df[(rsi_df['label'] != lbl_returns['label'])&(rsi_df['label']==True)])\n",
        "  false_negative = len(rsi_df[(rsi_df['label'] != lbl_returns['label'])&(rsi_df['label']==False)])\n",
        "  print(\n",
        "    f'''\n",
        "      True positive: {true_positive},\n",
        "      True negative: {true_negative},\n",
        "      False positive: {false_positive},\n",
        "      False negative: {false_negative}\n",
        "    ''')\n",
        "  matrix = confusion_matrix(lbl_returns['label'], rsi_df['label'])\n",
        "  disp_1 = ConfusionMatrixDisplay(matrix, display_labels=[0,1])\n",
        "  disp_1.plot()\n",
        "  precision = precision_score(true_labels, predicted_labels)\n",
        "  recall = recall_score(true_labels, predicted_labels)\n",
        "\n",
        "  print('Precision:', precision)\n",
        "  print('Recall:', recall)\n",
        "show_differences(rsi_df)"
      ],
      "metadata": {
        "id": "abmqWYEd2m_S",
        "colab": {
          "base_uri": "https://localhost:8080/",
          "height": 422
        },
        "outputId": "0a10eb42-d14d-4306-bf8c-da3ef328f489"
      },
      "execution_count": 68,
      "outputs": [
        {
          "output_type": "stream",
          "name": "stdout",
          "text": [
            "\n",
            "      True positive: 109,\n",
            "      True negative: 109,\n",
            "      False positive: 140,\n",
            "      False negative: 140\n",
            "    \n",
            "Precision: 0.43775100401606426\n",
            "Recall: 0.43775100401606426\n"
          ]
        },
        {
          "output_type": "display_data",
          "data": {
            "text/plain": [
              "<Figure size 432x288 with 2 Axes>"
            ],
            "image/png": "[encoded data removed]"
          },
          "metadata": {
            "needs_background": "light"
          }
        }
      ]
    },
    {
      "cell_type": "markdown",
      "source": [
        "# 1.3"
      ],
      "metadata": {
        "id": "P0G5x8FBMLb1"
      }
    },
    {
      "cell_type": "markdown",
      "source": [
        "finding a new threshold from the predicted column"
      ],
      "metadata": {
        "id": "G__KGqoKTZVT"
      }
    },
    {
      "cell_type": "code",
      "source": [
        "regression_df_labeled = regression_df.copy()\n",
        "regression_df_labeled.columns = ['stock',\t'pct_price_movement',\t'label_x',\t'rsi',\t'label_y', 'rsi_predicted']\n",
        "threshold = regression_df_labeled['rsi_predicted'].median()\n",
        "regression_df_labeled['label'] = (regression_df_labeled['rsi_predicted'] < threshold).astype(int)\n",
        "regression_df_labeled.set_index('stock', inplace=True)\n",
        "regression_df_labeled.drop(['rsi'], axis=1, inplace=True)\n",
        "regression_df_labeled.columns = ['pct_price_movement',\t'label_x', 'label_y', 'rsi', 'label']\n",
        "differences_0_1(regression_df_labeled)\n",
        "show_differences(regression_df_labeled)\n"
      ],
      "metadata": {
        "id": "5b8eKINnMOAA",
        "colab": {
          "base_uri": "https://localhost:8080/",
          "height": 1000
        },
        "outputId": "ace01357-38a2-4161-875f-0039941546be"
      },
      "execution_count": 69,
      "outputs": [
        {
          "output_type": "display_data",
          "data": {
            "text/plain": [
              "<Figure size 432x288 with 1 Axes>"
            ],
            "image/png": "[encoded data removed]"
          },
          "metadata": {
            "needs_background": "light"
          }
        },
        {
          "output_type": "display_data",
          "data": {
            "text/plain": [
              "<Figure size 432x288 with 1 Axes>"
            ],
            "image/png": "[encoded data removed]"
          },
          "metadata": {
            "needs_background": "light"
          }
        },
        {
          "output_type": "stream",
          "name": "stdout",
          "text": [
            "20% Percentile Yield Difference: 19.02\n",
            "Skewness of Yield Difference: 4.76\n",
            "Kurtosis of Yield Difference: 15.05\n",
            "Yield Difference: 2084.10%\n",
            "Mean Difference: 20.84\n",
            "Median Difference: 15.31\n",
            "\n",
            "      True positive: 109,\n",
            "      True negative: 109,\n",
            "      False positive: 140,\n",
            "      False negative: 140\n",
            "    \n",
            "Precision: 0.43775100401606426\n",
            "Recall: 0.43775100401606426\n"
          ]
        },
        {
          "output_type": "display_data",
          "data": {
            "text/plain": [
              "<Figure size 432x288 with 2 Axes>"
            ],
            "image/png": "[encoded data removed]"
          },
          "metadata": {
            "needs_background": "light"
          }
        }
      ]
    },
    {
      "cell_type": "markdown",
      "source": [
        "# 1.4\n",
        "we decided to use the Relative Strength Index (RSI) of a stock in the last week of the 'feature period' as an indicator for investment in the near future, based on the belief that RSI is a good indication for oversold stocks. When a stock's RSI is above 70, it is considered overbought, and it is not advisable to buy it. Conversely, when the RSI is below 30, it is considered oversold, and it is a good time to buy. We also conducted a feature importance test and found that the RSI feature had a high score.\n",
        "\n",
        "However, we were surprised to see that the results were opposite to what we had expected in the next 3 months. Despite setting a threshold such that if a stock's RSI is below the median, it is labeled '1', and '0' otherwise, this feature did not predict future stock yield accurately.\n",
        "\n",
        "On the contrary, when we ran a linear regression between our RSI column and the future profits column, the prediction was much better than our 'single threshold labeling' system. Its predictions were very accurate. "
      ],
      "metadata": {
        "id": "2DWQJme7Crhj"
      }
    },
    {
      "cell_type": "markdown",
      "source": [
        "# ***part 2***"
      ],
      "metadata": {
        "id": "_M3lkATJDiIn"
      }
    },
    {
      "cell_type": "markdown",
      "source": [
        "# 2.1"
      ],
      "metadata": {
        "id": "kqqd1x95EwYC"
      }
    },
    {
      "cell_type": "markdown",
      "source": [
        "create a data frame for all features"
      ],
      "metadata": {
        "id": "uXicZS8MEzgO"
      }
    },
    {
      "cell_type": "code",
      "source": [
        "def calculate_featurs(features_df):\n",
        "  monthly_features_df = features_df.groupby(['stock','month_index']).apply(calculate_returns).reset_index()\n",
        "  weekly_features_df = features_df.groupby(['stock','week_index']).apply(calculate_returns).reset_index()\n",
        "  worst_monthly_return = monthly_features_df.groupby('stock').min().reset_index()\n",
        "  best_monthly_return = monthly_features_df.groupby('stock').max().reset_index()\n",
        "\n",
        "  #תשואה כוללת עבור כל מניה\n",
        "  features_yield = features_df.groupby('stock').apply(lambda x: calculate_returns(x)).reset_index()\n",
        "\n",
        "  #הוספה שלנו- תשואה יומית עבור כל מניה\n",
        "  # features_df['yield'] = 100*(features_df['Close'] - features_df['Open'])/features_df['Open']\n",
        "  features_df.loc[:, 'yield'] = 100*(features_df['Close'] - features_df['Open'])/features_df['Open']\n",
        "\n",
        "  #חישוב ממוצע של כל חודש עבור כל מניה ולעשות ממוצע שלהם\n",
        "\n",
        "  mean_month = monthly_features_df.groupby('stock')[0].mean()\n",
        "\n",
        "  #חישוב ממוצע של כל שבוע עבור כל מניה ולעשות ממוצע שלהם\n",
        "  mean_week = weekly_features_df.groupby('stock')[0].mean()\n",
        "\n",
        "  #חישוב ממוצע של חודש אחרון\n",
        "  last_month = monthly_features_df['month_index'].max()\n",
        "  last_month_yield = monthly_features_df[monthly_features_df['month_index'] == last_month].drop(['month_index'], axis = 1)\n",
        "\n",
        "  # #החישוב ממוצע RSI של שבוע אחרון\n",
        "  # rsis = features_df.groupby('stock')['Close'].apply(ta.rsi)\n",
        "  # features_df['rsi'] = rsis\n",
        "  # features_df.loc[:, 'rsi'] = rsis\n",
        "  # last_week = weekly_features_df['week_index'].max()\n",
        "  # last_week_rsi = features_df.loc[features_df['week_index'] == last_week].groupby('stock')['rsi'].mean()\n",
        "\n",
        "  #מחשב את ממוצע הווליום של כל מניה לפי החודש הטוב ביותר שלה\n",
        "  best_yield_month = features_df.groupby(['stock', 'month_index'])['yield'].mean().reset_index().sort_values(by='yield', ascending=False).groupby('stock').first()\n",
        "  best_yield_month = pd.merge(best_yield_month, features_df[['stock', 'month_index']], on=['stock', 'month_index'])\n",
        "  mean_volume_best_month = features_df[features_df['month_index'].isin(best_yield_month['month_index'])].groupby('stock')['Volume'].mean().reset_index()\n",
        "  mean_volume_best_month = mean_volume_best_month.rename(columns={'Volume': 'mean_volume_best_month'})\n",
        "\n",
        "  #מחשב את ממוצע הווליום בחודש הגרוע ביותר של כל מניה\n",
        "  worst_month_df = features_df.loc[features_df['yield'] == features_df.groupby('stock')['yield'].transform(min)]\n",
        "  worst_month_mean_volume = worst_month_df.groupby('stock')['Volume'].mean().reset_index()\n",
        "\n",
        "\n",
        "  ft_df = best_monthly_return[['stock',0]]\n",
        "  ft_df['worst'] = worst_monthly_return[0]\n",
        "  \n",
        "  #ממוצע הווליום \n",
        "  mean_volume = features_df.groupby('stock')['Volume'].mean().reset_index()\n",
        "\n",
        "  #merging all data frames\n",
        "\n",
        "  std_yield = features_df.groupby('stock')['yield'].std()\n",
        "  ft_df = pd.merge(ft_df, std_yield, on='stock')\n",
        "  ft_df = pd.merge(ft_df,  mean_month, on='stock')\n",
        "  ft_df = pd.merge(ft_df,  mean_week, on='stock')\n",
        "  ft_df = pd.merge(ft_df, last_month_yield, on='stock', suffixes=('_ft', '_lmy'))\n",
        "  # ft_df = pd.merge(ft_df, last_week_rsi, on='stock')\n",
        "  ft_df = pd.merge(ft_df, mean_volume_best_month, on='stock')\n",
        "  ft_df = pd.merge(ft_df, worst_month_mean_volume, on='stock')\n",
        "  ft_df = pd.merge(ft_df, features_yield, on='stock')\n",
        "  ft_df = pd.merge(ft_df, mean_volume, on='stock')\n",
        "\n",
        "  ft_df.columns = ['stock', 'best_month', 'worst_month', 'std_yield', 'mean_month',\n",
        "                    'mean_week', 'last_month_yield', 'mean_volume_best','mean_volume_worst', 'total_yield', 'volume_mean']\n",
        "  return ft_df.set_index('stock')"
      ],
      "metadata": {
        "id": "uQzNtRpGDkG3"
      },
      "execution_count": 70,
      "outputs": []
    },
    {
      "cell_type": "markdown",
      "source": [
        "Checking feature importances"
      ],
      "metadata": {
        "id": "nzcjTBnoWUpm"
      }
    },
    {
      "cell_type": "code",
      "source": [
        "train_df_important, target_df_important = get_features_df(0)\n",
        "label_df_impotrant = add_label_to_labelling_df(target_df_important)\n",
        "train_df_important2 = calculate_featurs(train_df_important)\n",
        "\n",
        "monthly_features_df = train_df_important.groupby(['stock','month_index']).apply(calculate_returns).reset_index()\n",
        "weekly_features_df = train_df_important.groupby(['stock','week_index']).apply(calculate_returns).reset_index()\n",
        "#החישוב ממוצע RSI של שבוע אחרון\n",
        "rsis = train_df_important.groupby('stock')['Close'].apply(ta.rsi)\n",
        "# train_df_important['rsi'] = rsis\n",
        "train_df_important.loc[:, 'rsi'] = rsis\n",
        "last_week = weekly_features_df['week_index'].max()\n",
        "last_week_rsi = train_df_important.loc[train_df_important['week_index'] == last_week].groupby('stock')['rsi'].mean()\n",
        "train_df_important2 = pd.merge(train_df_important2, last_week_rsi, on='stock')\n",
        "train_df_important2.columns = ['best_month', 'worst_month', 'std_yield', 'mean_month',\n",
        "                    'mean_week', 'last_month_yield', 'mean_volume_best','mean_volume_worst', 'total_yield', 'volume_mean', 'last_week_rsi']\n",
        "\n",
        "train_df_important2 = pd.merge(train_df_important2, label_df_impotrant, on ='stock')\n",
        "\n",
        "# Training a Random Forest ML model to predict if the stock return will be above the median return in the labelling period\n",
        "# based on best and worst month in the feature period \n",
        "from sklearn.ensemble import RandomForestClassifier\n",
        "clf = RandomForestClassifier(max_depth=5, random_state=0)\n",
        "clf.fit(train_df_important2[['best_month','worst_month','std_yield','mean_month','mean_week',\n",
        "                  'last_month_yield', 'mean_volume_best','mean_volume_worst','total_yield','volume_mean', 'last_week_rsi']], train_df_important2['label'])\n",
        "\n",
        "def get_feature_importances(clf, feature_names):\n",
        "    importances = clf.feature_importances_\n",
        "    feature_importances = [(feature, round(importance, 2)) for feature, importance in zip(feature_names, importances)]\n",
        "    feature_importances = sorted(feature_importances, key = lambda x: x[1], reverse = True)\n",
        "    return feature_importances\n",
        "\n",
        "\n",
        "feature_names = ['best_month', 'worst_month', 'std_yield', 'mean_month', 'mean_week',\n",
        "                 'last_month_yield', 'mean_volume_best', 'mean_volume_worst', 'total_yield', 'volume_mean', 'last_week_rsi']\n",
        "\n",
        "feature_importances = get_feature_importances(clf, feature_names)\n",
        "\n",
        "print(feature_importances)"
      ],
      "metadata": {
        "colab": {
          "base_uri": "https://localhost:8080/"
        },
        "id": "jRYUFe-fJMrS",
        "outputId": "99bcdb01-a5f4-4535-a901-d367a290f756"
      },
      "execution_count": 71,
      "outputs": [
        {
          "output_type": "stream",
          "name": "stderr",
          "text": [
            "/usr/local/lib/python3.8/dist-packages/pandas/core/indexing.py:1667: SettingWithCopyWarning: \n",
            "A value is trying to be set on a copy of a slice from a DataFrame.\n",
            "Try using .loc[row_indexer,col_indexer] = value instead\n",
            "\n",
            "See the caveats in the documentation: https://pandas.pydata.org/pandas-docs/stable/user_guide/indexing.html#returning-a-view-versus-a-copy\n",
            "  self.obj[key] = value\n",
            "/usr/local/lib/python3.8/dist-packages/pandas/core/indexing.py:1667: SettingWithCopyWarning: \n",
            "A value is trying to be set on a copy of a slice from a DataFrame.\n",
            "Try using .loc[row_indexer,col_indexer] = value instead\n",
            "\n",
            "See the caveats in the documentation: https://pandas.pydata.org/pandas-docs/stable/user_guide/indexing.html#returning-a-view-versus-a-copy\n",
            "  self.obj[key] = value\n"
          ]
        },
        {
          "output_type": "stream",
          "name": "stdout",
          "text": [
            "[('mean_week', 0.17), ('std_yield', 0.13), ('mean_month', 0.12), ('last_month_yield', 0.09), ('total_yield', 0.09), ('last_week_rsi', 0.09), ('worst_month', 0.08), ('best_month', 0.07), ('volume_mean', 0.06), ('mean_volume_best', 0.05), ('mean_volume_worst', 0.05)]\n"
          ]
        }
      ]
    },
    {
      "cell_type": "markdown",
      "source": [
        "# training the model"
      ],
      "metadata": {
        "id": "QI2KHlIXNW-G"
      }
    },
    {
      "cell_type": "code",
      "source": [
        "train_df, target_df = get_features_df(0)\n",
        "label_df = add_label_to_labelling_df(target_df)\n",
        "train_df = calculate_featurs(train_df)\n",
        "train_df = pd.merge(train_df, label_df, on ='stock')\n",
        "# Training a Random Forest ML model to predict if the stock return will be above the median return in the labelling period\n",
        "# based on best and worst month in the feature period \n",
        "from sklearn.ensemble import RandomForestClassifier\n",
        "clf = RandomForestClassifier(max_depth=5, random_state=0)\n",
        "clf.fit(train_df[['best_month','worst_month','std_yield','mean_month','mean_week',\n",
        "                  'last_month_yield', 'mean_volume_best','mean_volume_worst','total_yield','volume_mean']], train_df['label'])\n"
      ],
      "metadata": {
        "id": "k-CM9h6yL6WA",
        "colab": {
          "base_uri": "https://localhost:8080/"
        },
        "outputId": "40780c05-e12a-4639-d32d-aaf1e412d493"
      },
      "execution_count": 72,
      "outputs": [
        {
          "output_type": "stream",
          "name": "stderr",
          "text": [
            "/usr/local/lib/python3.8/dist-packages/pandas/core/indexing.py:1667: SettingWithCopyWarning: \n",
            "A value is trying to be set on a copy of a slice from a DataFrame.\n",
            "Try using .loc[row_indexer,col_indexer] = value instead\n",
            "\n",
            "See the caveats in the documentation: https://pandas.pydata.org/pandas-docs/stable/user_guide/indexing.html#returning-a-view-versus-a-copy\n",
            "  self.obj[key] = value\n",
            "/usr/local/lib/python3.8/dist-packages/pandas/core/indexing.py:1667: SettingWithCopyWarning: \n",
            "A value is trying to be set on a copy of a slice from a DataFrame.\n",
            "Try using .loc[row_indexer,col_indexer] = value instead\n",
            "\n",
            "See the caveats in the documentation: https://pandas.pydata.org/pandas-docs/stable/user_guide/indexing.html#returning-a-view-versus-a-copy\n",
            "  self.obj[key] = value\n"
          ]
        },
        {
          "output_type": "execute_result",
          "data": {
            "text/plain": [
              "RandomForestClassifier(max_depth=5, random_state=0)"
            ]
          },
          "metadata": {},
          "execution_count": 72
        }
      ]
    },
    {
      "cell_type": "markdown",
      "source": [
        "# testing the model 12 times"
      ],
      "metadata": {
        "id": "mC9P0_nMC7vy"
      }
    },
    {
      "cell_type": "code",
      "source": [
        "def test_model(start_test_day):\n",
        "  features_df, labelling_df = get_features_df(start_test_day)\n",
        "  actual_df = add_label_to_labelling_df(labelling_df)\n",
        "  test_df = calculate_featurs(features_df)\n",
        "  test_df['predicted_y'] = clf.predict(test_df[['best_month','worst_month', 'std_yield','mean_month','mean_week',\n",
        "                                                'last_month_yield', 'mean_volume_best','mean_volume_worst', 'total_yield', 'volume_mean']])\n",
        "  test_df = pd.merge(test_df, actual_df, on='stock')\n",
        "\n",
        "  true_positive = len(test_df[(test_df['predicted_y'] == test_df['label'])&(test_df['predicted_y']==True)])\n",
        "  true_negative = len(test_df[(test_df['predicted_y'] == test_df['label'])&(test_df['predicted_y']==False)])\n",
        "  false_positive = len(test_df[(test_df['predicted_y'] != test_df['label'])&(test_df['predicted_y']==True)])\n",
        "  false_negative = len(test_df[(test_df['predicted_y'] != test_df['label'])&(test_df['predicted_y']==False)])\n",
        "  print(\n",
        "  f'''\n",
        "  Train results:\n",
        "    True positive: {true_positive},\n",
        "    True negative: {true_negative},\n",
        "    False positive: {false_positive},\n",
        "    False negative: {false_negative}\n",
        "  ''')\n",
        "  matrix = confusion_matrix(test_df['label'], test_df['predicted_y'])\n",
        "  disp_1 = ConfusionMatrixDisplay(matrix, display_labels=[0,1])\n",
        "  disp_1.plot()"
      ],
      "metadata": {
        "id": "_DgdHGQ0N0P3"
      },
      "execution_count": 73,
      "outputs": []
    },
    {
      "cell_type": "code",
      "source": [
        "months = [271, 301, 331, 361, 391, 421, 451, 481, 511, 541, 571, 601]\n",
        "i = 1\n",
        "for month in months:\n",
        "  print(\"month : \", i)\n",
        "  i = i + 1\n",
        "  test_model(month)\n",
        "\n",
        "\n",
        "\n"
      ],
      "metadata": {
        "id": "aaooW-vJQ016",
        "colab": {
          "base_uri": "https://localhost:8080/",
          "height": 1000
        },
        "outputId": "c7674b1a-2b0f-4f16-ab41-50502bedc8c9"
      },
      "execution_count": 74,
      "outputs": [
        {
          "output_type": "stream",
          "name": "stdout",
          "text": [
            "month :  1\n"
          ]
        },
        {
          "output_type": "stream",
          "name": "stderr",
          "text": [
            "/usr/local/lib/python3.8/dist-packages/pandas/core/indexing.py:1667: SettingWithCopyWarning: \n",
            "A value is trying to be set on a copy of a slice from a DataFrame.\n",
            "Try using .loc[row_indexer,col_indexer] = value instead\n",
            "\n",
            "See the caveats in the documentation: https://pandas.pydata.org/pandas-docs/stable/user_guide/indexing.html#returning-a-view-versus-a-copy\n",
            "  self.obj[key] = value\n",
            "/usr/local/lib/python3.8/dist-packages/pandas/core/indexing.py:1667: SettingWithCopyWarning: \n",
            "A value is trying to be set on a copy of a slice from a DataFrame.\n",
            "Try using .loc[row_indexer,col_indexer] = value instead\n",
            "\n",
            "See the caveats in the documentation: https://pandas.pydata.org/pandas-docs/stable/user_guide/indexing.html#returning-a-view-versus-a-copy\n",
            "  self.obj[key] = value\n",
            "/usr/local/lib/python3.8/dist-packages/pandas/core/indexing.py:1667: SettingWithCopyWarning: \n",
            "A value is trying to be set on a copy of a slice from a DataFrame.\n",
            "Try using .loc[row_indexer,col_indexer] = value instead\n",
            "\n",
            "See the caveats in the documentation: https://pandas.pydata.org/pandas-docs/stable/user_guide/indexing.html#returning-a-view-versus-a-copy\n",
            "  self.obj[key] = value\n"
          ]
        },
        {
          "output_type": "stream",
          "name": "stdout",
          "text": [
            "\n",
            "  Train results:\n",
            "    True positive: 231,\n",
            "    True negative: 18,\n",
            "    False positive: 231,\n",
            "    False negative: 18\n",
            "  \n",
            "month :  2\n"
          ]
        },
        {
          "output_type": "stream",
          "name": "stderr",
          "text": [
            "/usr/local/lib/python3.8/dist-packages/pandas/core/indexing.py:1667: SettingWithCopyWarning: \n",
            "A value is trying to be set on a copy of a slice from a DataFrame.\n",
            "Try using .loc[row_indexer,col_indexer] = value instead\n",
            "\n",
            "See the caveats in the documentation: https://pandas.pydata.org/pandas-docs/stable/user_guide/indexing.html#returning-a-view-versus-a-copy\n",
            "  self.obj[key] = value\n",
            "/usr/local/lib/python3.8/dist-packages/pandas/core/indexing.py:1667: SettingWithCopyWarning: \n",
            "A value is trying to be set on a copy of a slice from a DataFrame.\n",
            "Try using .loc[row_indexer,col_indexer] = value instead\n",
            "\n",
            "See the caveats in the documentation: https://pandas.pydata.org/pandas-docs/stable/user_guide/indexing.html#returning-a-view-versus-a-copy\n",
            "  self.obj[key] = value\n"
          ]
        },
        {
          "output_type": "stream",
          "name": "stdout",
          "text": [
            "\n",
            "  Train results:\n",
            "    True positive: 232,\n",
            "    True negative: 6,\n",
            "    False positive: 243,\n",
            "    False negative: 17\n",
            "  \n",
            "month :  3\n"
          ]
        },
        {
          "output_type": "stream",
          "name": "stderr",
          "text": [
            "/usr/local/lib/python3.8/dist-packages/pandas/core/indexing.py:1667: SettingWithCopyWarning: \n",
            "A value is trying to be set on a copy of a slice from a DataFrame.\n",
            "Try using .loc[row_indexer,col_indexer] = value instead\n",
            "\n",
            "See the caveats in the documentation: https://pandas.pydata.org/pandas-docs/stable/user_guide/indexing.html#returning-a-view-versus-a-copy\n",
            "  self.obj[key] = value\n",
            "/usr/local/lib/python3.8/dist-packages/pandas/core/indexing.py:1667: SettingWithCopyWarning: \n",
            "A value is trying to be set on a copy of a slice from a DataFrame.\n",
            "Try using .loc[row_indexer,col_indexer] = value instead\n",
            "\n",
            "See the caveats in the documentation: https://pandas.pydata.org/pandas-docs/stable/user_guide/indexing.html#returning-a-view-versus-a-copy\n",
            "  self.obj[key] = value\n"
          ]
        },
        {
          "output_type": "stream",
          "name": "stdout",
          "text": [
            "\n",
            "  Train results:\n",
            "    True positive: 228,\n",
            "    True negative: 20,\n",
            "    False positive: 230,\n",
            "    False negative: 21\n",
            "  \n",
            "month :  4\n"
          ]
        },
        {
          "output_type": "stream",
          "name": "stderr",
          "text": [
            "/usr/local/lib/python3.8/dist-packages/pandas/core/indexing.py:1667: SettingWithCopyWarning: \n",
            "A value is trying to be set on a copy of a slice from a DataFrame.\n",
            "Try using .loc[row_indexer,col_indexer] = value instead\n",
            "\n",
            "See the caveats in the documentation: https://pandas.pydata.org/pandas-docs/stable/user_guide/indexing.html#returning-a-view-versus-a-copy\n",
            "  self.obj[key] = value\n",
            "/usr/local/lib/python3.8/dist-packages/pandas/core/indexing.py:1667: SettingWithCopyWarning: \n",
            "A value is trying to be set on a copy of a slice from a DataFrame.\n",
            "Try using .loc[row_indexer,col_indexer] = value instead\n",
            "\n",
            "See the caveats in the documentation: https://pandas.pydata.org/pandas-docs/stable/user_guide/indexing.html#returning-a-view-versus-a-copy\n",
            "  self.obj[key] = value\n"
          ]
        },
        {
          "output_type": "stream",
          "name": "stdout",
          "text": [
            "\n",
            "  Train results:\n",
            "    True positive: 231,\n",
            "    True negative: 33,\n",
            "    False positive: 217,\n",
            "    False negative: 18\n",
            "  \n",
            "month :  5\n"
          ]
        },
        {
          "output_type": "stream",
          "name": "stderr",
          "text": [
            "/usr/local/lib/python3.8/dist-packages/pandas/core/indexing.py:1667: SettingWithCopyWarning: \n",
            "A value is trying to be set on a copy of a slice from a DataFrame.\n",
            "Try using .loc[row_indexer,col_indexer] = value instead\n",
            "\n",
            "See the caveats in the documentation: https://pandas.pydata.org/pandas-docs/stable/user_guide/indexing.html#returning-a-view-versus-a-copy\n",
            "  self.obj[key] = value\n"
          ]
        },
        {
          "output_type": "stream",
          "name": "stdout",
          "text": [
            "\n",
            "  Train results:\n",
            "    True positive: 231,\n",
            "    True negative: 18,\n",
            "    False positive: 232,\n",
            "    False negative: 18\n",
            "  \n",
            "month :  6\n"
          ]
        },
        {
          "output_type": "stream",
          "name": "stderr",
          "text": [
            "/usr/local/lib/python3.8/dist-packages/pandas/core/indexing.py:1667: SettingWithCopyWarning: \n",
            "A value is trying to be set on a copy of a slice from a DataFrame.\n",
            "Try using .loc[row_indexer,col_indexer] = value instead\n",
            "\n",
            "See the caveats in the documentation: https://pandas.pydata.org/pandas-docs/stable/user_guide/indexing.html#returning-a-view-versus-a-copy\n",
            "  self.obj[key] = value\n",
            "/usr/local/lib/python3.8/dist-packages/pandas/core/indexing.py:1667: SettingWithCopyWarning: \n",
            "A value is trying to be set on a copy of a slice from a DataFrame.\n",
            "Try using .loc[row_indexer,col_indexer] = value instead\n",
            "\n",
            "See the caveats in the documentation: https://pandas.pydata.org/pandas-docs/stable/user_guide/indexing.html#returning-a-view-versus-a-copy\n",
            "  self.obj[key] = value\n",
            "/usr/local/lib/python3.8/dist-packages/pandas/core/indexing.py:1667: SettingWithCopyWarning: \n",
            "A value is trying to be set on a copy of a slice from a DataFrame.\n",
            "Try using .loc[row_indexer,col_indexer] = value instead\n",
            "\n",
            "See the caveats in the documentation: https://pandas.pydata.org/pandas-docs/stable/user_guide/indexing.html#returning-a-view-versus-a-copy\n",
            "  self.obj[key] = value\n"
          ]
        },
        {
          "output_type": "stream",
          "name": "stdout",
          "text": [
            "\n",
            "  Train results:\n",
            "    True positive: 226,\n",
            "    True negative: 23,\n",
            "    False positive: 227,\n",
            "    False negative: 23\n",
            "  \n",
            "month :  7\n"
          ]
        },
        {
          "output_type": "stream",
          "name": "stderr",
          "text": [
            "/usr/local/lib/python3.8/dist-packages/pandas/core/indexing.py:1667: SettingWithCopyWarning: \n",
            "A value is trying to be set on a copy of a slice from a DataFrame.\n",
            "Try using .loc[row_indexer,col_indexer] = value instead\n",
            "\n",
            "See the caveats in the documentation: https://pandas.pydata.org/pandas-docs/stable/user_guide/indexing.html#returning-a-view-versus-a-copy\n",
            "  self.obj[key] = value\n",
            "/usr/local/lib/python3.8/dist-packages/pandas/core/indexing.py:1667: SettingWithCopyWarning: \n",
            "A value is trying to be set on a copy of a slice from a DataFrame.\n",
            "Try using .loc[row_indexer,col_indexer] = value instead\n",
            "\n",
            "See the caveats in the documentation: https://pandas.pydata.org/pandas-docs/stable/user_guide/indexing.html#returning-a-view-versus-a-copy\n",
            "  self.obj[key] = value\n"
          ]
        },
        {
          "output_type": "stream",
          "name": "stdout",
          "text": [
            "\n",
            "  Train results:\n",
            "    True positive: 228,\n",
            "    True negative: 27,\n",
            "    False positive: 223,\n",
            "    False negative: 21\n",
            "  \n",
            "month :  8\n"
          ]
        },
        {
          "output_type": "stream",
          "name": "stderr",
          "text": [
            "/usr/local/lib/python3.8/dist-packages/pandas/core/indexing.py:1667: SettingWithCopyWarning: \n",
            "A value is trying to be set on a copy of a slice from a DataFrame.\n",
            "Try using .loc[row_indexer,col_indexer] = value instead\n",
            "\n",
            "See the caveats in the documentation: https://pandas.pydata.org/pandas-docs/stable/user_guide/indexing.html#returning-a-view-versus-a-copy\n",
            "  self.obj[key] = value\n",
            "/usr/local/lib/python3.8/dist-packages/pandas/core/indexing.py:1667: SettingWithCopyWarning: \n",
            "A value is trying to be set on a copy of a slice from a DataFrame.\n",
            "Try using .loc[row_indexer,col_indexer] = value instead\n",
            "\n",
            "See the caveats in the documentation: https://pandas.pydata.org/pandas-docs/stable/user_guide/indexing.html#returning-a-view-versus-a-copy\n",
            "  self.obj[key] = value\n"
          ]
        },
        {
          "output_type": "stream",
          "name": "stdout",
          "text": [
            "\n",
            "  Train results:\n",
            "    True positive: 231,\n",
            "    True negative: 17,\n",
            "    False positive: 233,\n",
            "    False negative: 18\n",
            "  \n",
            "month :  9\n"
          ]
        },
        {
          "output_type": "stream",
          "name": "stderr",
          "text": [
            "/usr/local/lib/python3.8/dist-packages/pandas/core/indexing.py:1667: SettingWithCopyWarning: \n",
            "A value is trying to be set on a copy of a slice from a DataFrame.\n",
            "Try using .loc[row_indexer,col_indexer] = value instead\n",
            "\n",
            "See the caveats in the documentation: https://pandas.pydata.org/pandas-docs/stable/user_guide/indexing.html#returning-a-view-versus-a-copy\n",
            "  self.obj[key] = value\n",
            "/usr/local/lib/python3.8/dist-packages/pandas/core/indexing.py:1667: SettingWithCopyWarning: \n",
            "A value is trying to be set on a copy of a slice from a DataFrame.\n",
            "Try using .loc[row_indexer,col_indexer] = value instead\n",
            "\n",
            "See the caveats in the documentation: https://pandas.pydata.org/pandas-docs/stable/user_guide/indexing.html#returning-a-view-versus-a-copy\n",
            "  self.obj[key] = value\n"
          ]
        },
        {
          "output_type": "stream",
          "name": "stdout",
          "text": [
            "\n",
            "  Train results:\n",
            "    True positive: 214,\n",
            "    True negative: 17,\n",
            "    False positive: 233,\n",
            "    False negative: 35\n",
            "  \n",
            "month :  10\n"
          ]
        },
        {
          "output_type": "stream",
          "name": "stderr",
          "text": [
            "/usr/local/lib/python3.8/dist-packages/pandas/core/indexing.py:1667: SettingWithCopyWarning: \n",
            "A value is trying to be set on a copy of a slice from a DataFrame.\n",
            "Try using .loc[row_indexer,col_indexer] = value instead\n",
            "\n",
            "See the caveats in the documentation: https://pandas.pydata.org/pandas-docs/stable/user_guide/indexing.html#returning-a-view-versus-a-copy\n",
            "  self.obj[key] = value\n"
          ]
        },
        {
          "output_type": "stream",
          "name": "stdout",
          "text": [
            "\n",
            "  Train results:\n",
            "    True positive: 228,\n",
            "    True negative: 21,\n",
            "    False positive: 229,\n",
            "    False negative: 21\n",
            "  \n",
            "month :  11\n"
          ]
        },
        {
          "output_type": "stream",
          "name": "stderr",
          "text": [
            "/usr/local/lib/python3.8/dist-packages/pandas/core/indexing.py:1667: SettingWithCopyWarning: \n",
            "A value is trying to be set on a copy of a slice from a DataFrame.\n",
            "Try using .loc[row_indexer,col_indexer] = value instead\n",
            "\n",
            "See the caveats in the documentation: https://pandas.pydata.org/pandas-docs/stable/user_guide/indexing.html#returning-a-view-versus-a-copy\n",
            "  self.obj[key] = value\n",
            "/usr/local/lib/python3.8/dist-packages/pandas/core/indexing.py:1667: SettingWithCopyWarning: \n",
            "A value is trying to be set on a copy of a slice from a DataFrame.\n",
            "Try using .loc[row_indexer,col_indexer] = value instead\n",
            "\n",
            "See the caveats in the documentation: https://pandas.pydata.org/pandas-docs/stable/user_guide/indexing.html#returning-a-view-versus-a-copy\n",
            "  self.obj[key] = value\n",
            "/usr/local/lib/python3.8/dist-packages/pandas/core/indexing.py:1667: SettingWithCopyWarning: \n",
            "A value is trying to be set on a copy of a slice from a DataFrame.\n",
            "Try using .loc[row_indexer,col_indexer] = value instead\n",
            "\n",
            "See the caveats in the documentation: https://pandas.pydata.org/pandas-docs/stable/user_guide/indexing.html#returning-a-view-versus-a-copy\n",
            "  self.obj[key] = value\n"
          ]
        },
        {
          "output_type": "stream",
          "name": "stdout",
          "text": [
            "\n",
            "  Train results:\n",
            "    True positive: 230,\n",
            "    True negative: 31,\n",
            "    False positive: 219,\n",
            "    False negative: 20\n",
            "  \n",
            "month :  12\n"
          ]
        },
        {
          "output_type": "stream",
          "name": "stderr",
          "text": [
            "/usr/local/lib/python3.8/dist-packages/pandas/core/indexing.py:1667: SettingWithCopyWarning: \n",
            "A value is trying to be set on a copy of a slice from a DataFrame.\n",
            "Try using .loc[row_indexer,col_indexer] = value instead\n",
            "\n",
            "See the caveats in the documentation: https://pandas.pydata.org/pandas-docs/stable/user_guide/indexing.html#returning-a-view-versus-a-copy\n",
            "  self.obj[key] = value\n"
          ]
        },
        {
          "output_type": "stream",
          "name": "stdout",
          "text": [
            "\n",
            "  Train results:\n",
            "    True positive: 229,\n",
            "    True negative: 31,\n",
            "    False positive: 219,\n",
            "    False negative: 21\n",
            "  \n"
          ]
        },
        {
          "output_type": "display_data",
          "data": {
            "text/plain": [
              "<Figure size 432x288 with 2 Axes>"
            ],
            "image/png": "[encoded data removed]"
          },
          "metadata": {
            "needs_background": "light"
          }
        },
        {
          "output_type": "display_data",
          "data": {
            "text/plain": [
              "<Figure size 432x288 with 2 Axes>"
            ],
            "image/png": "[encoded data removed]"
          },
          "metadata": {
            "needs_background": "light"
          }
        },
        {
          "output_type": "display_data",
          "data": {
            "text/plain": [
              "<Figure size 432x288 with 2 Axes>"
            ],
            "image/png": "[encoded data removed]"
          },
          "metadata": {
            "needs_background": "light"
          }
        },
        {
          "output_type": "display_data",
          "data": {
            "text/plain": [
              "<Figure size 432x288 with 2 Axes>"
            ],
            "image/png": "[encoded data removed]"
          },
          "metadata": {
            "needs_background": "light"
          }
        },
        {
          "output_type": "display_data",
          "data": {
            "text/plain": [
              "<Figure size 432x288 with 2 Axes>"
            ],
            "image/png": "[encoded data removed]"
          },
          "metadata": {
            "needs_background": "light"
          }
        },
        {
          "output_type": "display_data",
          "data": {
            "text/plain": [
              "<Figure size 432x288 with 2 Axes>"
            ],
            "image/png": "[encoded data removed]"
          },
          "metadata": {
            "needs_background": "light"
          }
        },
        {
          "output_type": "display_data",
          "data": {
            "text/plain": [
              "<Figure size 432x288 with 2 Axes>"
            ],
            "image/png": "[encoded data removed]"
          },
          "metadata": {
            "needs_background": "light"
          }
        },
        {
          "output_type": "display_data",
          "data": {
            "text/plain": [
              "<Figure size 432x288 with 2 Axes>"
            ],
            "image/png": "[encoded data removed]"
          },
          "metadata": {
            "needs_background": "light"
          }
        },
        {
          "output_type": "display_data",
          "data": {
            "text/plain": [
              "<Figure size 432x288 with 2 Axes>"
            ],
            "image/png": "[encoded data removed]"
          },
          "metadata": {
            "needs_background": "light"
          }
        },
        {
          "output_type": "display_data",
          "data": {
            "text/plain": [
              "<Figure size 432x288 with 2 Axes>"
            ],
            "image/png": "[encoded data removed]"
          },
          "metadata": {
            "needs_background": "light"
          }
        },
        {
          "output_type": "display_data",
          "data": {
            "text/plain": [
              "<Figure size 432x288 with 2 Axes>"
            ],
            "image/png": "[encoded data removed]"
          },
          "metadata": {
            "needs_background": "light"
          }
        },
        {
          "output_type": "display_data",
          "data": {
            "text/plain": [
              "<Figure size 432x288 with 2 Axes>"
            ],
            "image/png": "[encoded data removed]"
          },
          "metadata": {
            "needs_background": "light"
          }
        }
      ]
    },
    {
      "cell_type": "markdown",
      "source": [
        "Training the modle on 9 month before 2022_06_01"
      ],
      "metadata": {
        "id": "1t3JO5nmSs9d"
      }
    },
    {
      "cell_type": "markdown",
      "source": [
        "we chose to train the model as close as we can to the point when we invest our money in stocks. The reason is because the closer the 'Train' period is to the invesment time, the data it recieved  will be more relevent to predicting rises and falls of stocks."
      ],
      "metadata": {
        "id": "J101lIBEB4ht"
      }
    },
    {
      "cell_type": "code",
      "source": [
        "train_df_2, target_df_2 = get_features_df(424)\n",
        "label_df_2 = add_label_to_labelling_df(target_df_2)\n",
        "train_df_2 = calculate_featurs(train_df_2)\n",
        "train_df_2 = pd.merge(train_df_2, label_df_2, on ='stock')\n",
        "# Training a Random Forest ML model to predict if the stock return will be above the median return in the labelling period\n",
        "# based on best and worst month in the feature period \n",
        "from sklearn.ensemble import RandomForestClassifier\n",
        "clf = RandomForestClassifier(max_depth=5, random_state=0)\n",
        "clf.fit(train_df_2[['best_month','worst_month','std_yield','mean_month','mean_week',\n",
        "                  'last_month_yield', 'mean_volume_best','mean_volume_worst','total_yield', 'volume_mean']], train_df_2['label'])"
      ],
      "metadata": {
        "id": "kyOH8m6zS-Pb",
        "colab": {
          "base_uri": "https://localhost:8080/"
        },
        "outputId": "c5255bf8-bc89-44c0-afea-25618f4236b5"
      },
      "execution_count": 75,
      "outputs": [
        {
          "output_type": "stream",
          "name": "stderr",
          "text": [
            "/usr/local/lib/python3.8/dist-packages/pandas/core/indexing.py:1667: SettingWithCopyWarning: \n",
            "A value is trying to be set on a copy of a slice from a DataFrame.\n",
            "Try using .loc[row_indexer,col_indexer] = value instead\n",
            "\n",
            "See the caveats in the documentation: https://pandas.pydata.org/pandas-docs/stable/user_guide/indexing.html#returning-a-view-versus-a-copy\n",
            "  self.obj[key] = value\n",
            "/usr/local/lib/python3.8/dist-packages/pandas/core/indexing.py:1667: SettingWithCopyWarning: \n",
            "A value is trying to be set on a copy of a slice from a DataFrame.\n",
            "Try using .loc[row_indexer,col_indexer] = value instead\n",
            "\n",
            "See the caveats in the documentation: https://pandas.pydata.org/pandas-docs/stable/user_guide/indexing.html#returning-a-view-versus-a-copy\n",
            "  self.obj[key] = value\n"
          ]
        },
        {
          "output_type": "execute_result",
          "data": {
            "text/plain": [
              "RandomForestClassifier(max_depth=5, random_state=0)"
            ]
          },
          "metadata": {},
          "execution_count": 75
        }
      ]
    },
    {
      "cell_type": "markdown",
      "source": [
        "Extract the features from 01-01-2022 to choose our stocks for the protfolio. \n",
        "\n",
        "After training our predictive model and evaluating its performance, we want to use it to make investment decisions. To do this, we need to select a set of stocks to invest in.\n",
        "\n",
        "We've decided to use the predicted values from our model to identify stocks that are likely to yield high returns. Specifically, we're selecting stocks where the predicted value is 1, indicating that our model believes they will outperform the market in the near future.\n",
        "\n",
        "However, we also want to be mindful of risk, so we've decided to add two additional conditions to our selection process. First, we're only considering stocks with a standard yield below the median. This helps us avoid stocks that may be too volatile or risky for our investment strategy. Second, we're only selecting stocks where the last month's yield is above the median. This allows us to trade in the same direction as the recent movement of the market, which may help reduce risk and improve returns."
      ],
      "metadata": {
        "id": "MLkceudvZUFI"
      }
    },
    {
      "cell_type": "code",
      "source": [
        "features_df_protfolio = all_df[(all_df['t0'] >= 729)&(all_df['t0'] < 880)]\n",
        "#week df\n",
        "features_df_protfolio['week_index'] = (features_df_protfolio['t0'] / 7).astype(int)\n",
        "\n",
        "#month df\n",
        "features_df_protfolio['month_index'] = (features_df_protfolio['t0'] / 30).astype(int)\n",
        "features_df_protfolio\n",
        "features_df_protfolio = calculate_featurs(features_df_protfolio)\n",
        "features_df_protfolio['predicted_y'] = clf.predict(features_df_protfolio[['best_month','worst_month', 'std_yield','mean_month','mean_week',\n",
        "                                                'last_month_yield','mean_volume_best','mean_volume_worst', 'total_yield', 'volume_mean']])"
      ],
      "metadata": {
        "id": "Z8_k-RScZim4",
        "colab": {
          "base_uri": "https://localhost:8080/"
        },
        "outputId": "3da9abbb-db85-4861-a96c-836733236b56"
      },
      "execution_count": 76,
      "outputs": [
        {
          "output_type": "stream",
          "name": "stderr",
          "text": [
            "<ipython-input-76-d1fb6808e239>:3: SettingWithCopyWarning: \n",
            "A value is trying to be set on a copy of a slice from a DataFrame.\n",
            "Try using .loc[row_indexer,col_indexer] = value instead\n",
            "\n",
            "See the caveats in the documentation: https://pandas.pydata.org/pandas-docs/stable/user_guide/indexing.html#returning-a-view-versus-a-copy\n",
            "  features_df_protfolio['week_index'] = (features_df_protfolio['t0'] / 7).astype(int)\n",
            "<ipython-input-76-d1fb6808e239>:6: SettingWithCopyWarning: \n",
            "A value is trying to be set on a copy of a slice from a DataFrame.\n",
            "Try using .loc[row_indexer,col_indexer] = value instead\n",
            "\n",
            "See the caveats in the documentation: https://pandas.pydata.org/pandas-docs/stable/user_guide/indexing.html#returning-a-view-versus-a-copy\n",
            "  features_df_protfolio['month_index'] = (features_df_protfolio['t0'] / 30).astype(int)\n",
            "/usr/local/lib/python3.8/dist-packages/pandas/core/indexing.py:1667: SettingWithCopyWarning: \n",
            "A value is trying to be set on a copy of a slice from a DataFrame.\n",
            "Try using .loc[row_indexer,col_indexer] = value instead\n",
            "\n",
            "See the caveats in the documentation: https://pandas.pydata.org/pandas-docs/stable/user_guide/indexing.html#returning-a-view-versus-a-copy\n",
            "  self.obj[key] = value\n"
          ]
        }
      ]
    },
    {
      "cell_type": "code",
      "source": [
        "features_df_protfolio\n",
        "features_df_protfolio['predicted_y'].value_counts()\n",
        "median_yield = features_df_protfolio.loc[features_df_protfolio['predicted_y'] == 1, 'std_yield'].median()\n",
        "stocks_list = features_df_protfolio.loc[(features_df_protfolio['predicted_y'] == 1) & (features_df_protfolio['std_yield'] < median_yield) & (features_df_protfolio['last_month_yield'] > 0)].index.tolist()\n",
        "len(stocks_list)"
      ],
      "metadata": {
        "id": "vcwWg0MUcpLd",
        "colab": {
          "base_uri": "https://localhost:8080/"
        },
        "outputId": "689c27f6-1fb5-4c61-8546-4e8f0b1b5428"
      },
      "execution_count": 77,
      "outputs": [
        {
          "output_type": "execute_result",
          "data": {
            "text/plain": [
              "71"
            ]
          },
          "metadata": {},
          "execution_count": 77
        }
      ]
    },
    {
      "cell_type": "code",
      "source": [
        "features_df_protfolio_df = all_df[all_df['stock'].isin(stocks_list)]\n",
        "features_df_protfolio_2 = features_df_protfolio_df['Close'].pct_change()"
      ],
      "metadata": {
        "id": "8st4rn6s5HO0"
      },
      "execution_count": 78,
      "outputs": []
    },
    {
      "cell_type": "markdown",
      "source": [
        "Our stocks data\n",
        "Sharpe Ratio"
      ],
      "metadata": {
        "id": "V7LFRbPU-YV1"
      }
    },
    {
      "cell_type": "code",
      "source": [
        "mean_return = features_df_protfolio_2.mean()\n",
        "Rf = 0.0 # Risk free interest\n",
        "std_return = features_df_protfolio_2.std()\n",
        "portfolio_sharpe = (mean_return - Rf) / std_return\n",
        "print(f'Sharp Ratio: {portfolio_sharpe}')"
      ],
      "metadata": {
        "colab": {
          "base_uri": "https://localhost:8080/"
        },
        "id": "7vkbwI_z9hoC",
        "outputId": "ed43b1f0-e278-4824-ecb1-892f701a868f"
      },
      "execution_count": 79,
      "outputs": [
        {
          "output_type": "stream",
          "name": "stdout",
          "text": [
            "Sharp Ratio: 0.014478360202577693\n"
          ]
        }
      ]
    },
    {
      "cell_type": "markdown",
      "source": [
        "Volatility"
      ],
      "metadata": {
        "id": "efzdNaBf-V1N"
      }
    },
    {
      "cell_type": "code",
      "source": [
        "portfolio_volatility = features_df_protfolio_2.std()*252**0.5\n",
        "print(f'Volatility: {portfolio_volatility}')"
      ],
      "metadata": {
        "colab": {
          "base_uri": "https://localhost:8080/"
        },
        "id": "3w6XESZB91PX",
        "outputId": "624bd7bd-0126-4c11-9f7a-e2004e2e42d5"
      },
      "execution_count": 80,
      "outputs": [
        {
          "output_type": "stream",
          "name": "stdout",
          "text": [
            "Volatility: 1.3308128949118947\n"
          ]
        }
      ]
    },
    {
      "cell_type": "markdown",
      "source": [
        "Max Draw-down"
      ],
      "metadata": {
        "id": "X0f3qBBL-TQN"
      }
    },
    {
      "cell_type": "code",
      "source": [
        "total_returns = (1 + features_df_protfolio_2).cumprod() - 1\n",
        "portfolio_max_draw_down = (total_returns.cummax() - total_returns).max()\n",
        "print(f'Max Draw-down: {portfolio_max_draw_down}')"
      ],
      "metadata": {
        "colab": {
          "base_uri": "https://localhost:8080/"
        },
        "id": "aoca8Na6-NKw",
        "outputId": "e5850be3-dc5c-4fa9-fc93-87a5c5584807"
      },
      "execution_count": 81,
      "outputs": [
        {
          "output_type": "stream",
          "name": "stdout",
          "text": [
            "Max Draw-down: 4.680774831141786\n"
          ]
        }
      ]
    },
    {
      "cell_type": "markdown",
      "source": [
        "S&P500 Data"
      ],
      "metadata": {
        "id": "-kPRac2t-qWC"
      }
    },
    {
      "cell_type": "code",
      "source": [
        "all_df[(all_df['t0'] >= 729)&(all_df['t0'] < 880)]\n",
        "SAP500 = all_df[(all_df['t0'] >= 729)&(all_df['t0'] < 880)]['Close'].pct_change()\n",
        "print(\"S&P500\")\n",
        "# Sharpe Ratio\n",
        "mean_return = SAP500.mean()\n",
        "Rf = 0.0 # Risk free interest\n",
        "std_return = SAP500.std()\n",
        "SAP500_sharpe = (mean_return - Rf) / std_return\n",
        "print(f'Sharp Ratio: {SAP500_sharpe}')\n",
        "\n",
        "# Volatility\n",
        "SAP500_volatility = SAP500.std()*252**0.5\n",
        "print(f'Volatility: {SAP500_volatility}')\n",
        "\n",
        "#Max Draw-down\n",
        "total_returns = (1 + SAP500).cumprod() - 1\n",
        "# total_returns = total_returns.drop('CEG')\n",
        "# total_returns.replace([np.inf, -np.inf], np.nan, inplace=True)\n",
        "SAP500_max_draw_down = (total_returns.cummax() - total_returns).max()\n",
        "print(f'Max Draw-down: {SAP500_max_draw_down}')"
      ],
      "metadata": {
        "colab": {
          "base_uri": "https://localhost:8080/"
        },
        "id": "pfs8ad01_EH8",
        "outputId": "456f4f41-5b88-417d-9d67-f28703b903a4"
      },
      "execution_count": 82,
      "outputs": [
        {
          "output_type": "stream",
          "name": "stdout",
          "text": [
            "S&P500\n",
            "Sharp Ratio: 0.03390486063322661\n",
            "Volatility: 5.488549258047537\n",
            "Max Draw-down: 35.078176711854944\n"
          ]
        }
      ]
    },
    {
      "cell_type": "markdown",
      "source": [
        "The portfolio's Sharpe ratio is lower than that of the S&P 500, indicating that the portfolio is generating a lower return per unit of risk taken on. This could mean that the portfolio is not performing as well as the market overall.\n",
        "\n",
        "The portfolio's volatility is significantly lower than that of the S&P 500, indicating that the portfolio is less volatile than the market overall. This could mean that the portfolio is more stable and may be a better choice for investors looking for a less risky investment.\n",
        "\n",
        "The portfolio's maximum draw-down is also significantly lower than that of the S&P 500, indicating that the portfolio has experienced smaller losses in the past. This could mean that the portfolio is better protected during market downturns and may be a good choice for investors who are more risk-averse.\n",
        "\n",
        "Overall, while the portfolio may be generating lower returns than the S&P 500, it may be a good choice for investors who are looking for a less volatile and less risky investment option."
      ],
      "metadata": {
        "id": "Z5VEfUOGEFyi"
      }
    },
    {
      "cell_type": "code",
      "source": [
        "from backtesting import Backtest, Strategy\n",
        "from backtesting.lib import crossover\n",
        "\n",
        "from backtesting.test import SMA\n",
        "from statistics import mean, stdev\n",
        "\n",
        "# Using Backtesting.py can be installed with \"pip3 install backtesting\"\n",
        "\n",
        "class SmaCross(Strategy):\n",
        "    n1 = 10\n",
        "    n2 = 20\n",
        "\n",
        "    def init(self):\n",
        "        close = self.data.Close\n",
        "        self.sma1 = self.I(SMA, close, self.n1)\n",
        "        self.sma2 = self.I(SMA, close, self.n2)\n",
        "\n",
        "    def next(self):\n",
        "        if crossover(self.sma1, self.sma2):\n",
        "            self.buy()\n",
        "        elif crossover(self.sma2, self.sma1):\n",
        "            self.sell()\n",
        "            \n",
        "def calculate_portfolio_stats(all_data, portfolio_stocks):\n",
        "    '''\n",
        "        all_data: pd.Dataframe, needs to include all your required stocks OHLCV data.\n",
        "        portfolio_stocks: List[str], list of your required portfolio stock tickers for an example: ['AAPL','TSLA'].\n",
        "        must be consistentr with the stocks column uin your all_data df\n",
        "    '''\n",
        "    assert len(portfolio_stocks) > 1, 'portfolio must include more than one stock'\n",
        "    returns = []\n",
        "    sharpes = []\n",
        "    for stock in portfolio_stocks:\n",
        "        if stock == 'A': continue\n",
        "        stock_data = all_data[all_data['stock'] == stock][['Open', 'High', 'Low', 'Close', 'Volume']]\n",
        "        bt = Backtest(stock_data, SmaCross,\n",
        "                    cash=10000, commission=.002,\n",
        "                    exclusive_orders=True)\n",
        "        output = bt.run()\n",
        "        sharpes.append(output.loc['Sharpe Ratio'])\n",
        "        returns.append(output.loc['Return [%]'])\n",
        "    mean_returns = mean(returns)\n",
        "    returns_std = stdev(returns)\n",
        "    mean_sharpes = mean(sharpes)\n",
        "    sharpes_std = stdev(sharpes)\n",
        "    max_yield = max(returns)\n",
        "    max_yield_stock = portfolio_stocks[returns.index(max_yield)]\n",
        "    return mean_returns, returns_std, mean_sharpes, sharpes_std, max_yield_stock\n"
      ],
      "metadata": {
        "id": "LeUho-l0SOfQ"
      },
      "execution_count": 83,
      "outputs": []
    },
    {
      "cell_type": "markdown",
      "source": [],
      "metadata": {
        "id": "E2hpmbYqL9Ue"
      }
    },
    {
      "cell_type": "markdown",
      "source": [
        "Part 3"
      ],
      "metadata": {
        "id": "3QsWQdwbvIRD"
      }
    },
    {
      "cell_type": "code",
      "source": [
        "from backtesting import Backtest, Strategy\n",
        "from backtesting.lib import crossover\n",
        "\n",
        "from backtesting.test import SMA, GOOG\n",
        "\n",
        "\n",
        "class SmaCross(Strategy):\n",
        "    n1 = 10\n",
        "    n2 = 20\n",
        "\n",
        "    def init(self):\n",
        "        close = self.data.Close\n",
        "        self.sma1 = self.I(SMA, close, self.n1)\n",
        "        self.sma2 = self.I(SMA, close, self.n2)\n",
        "\n",
        "    def next(self):\n",
        "        if crossover(self.sma1, self.sma2):\n",
        "            self.buy()\n",
        "        elif crossover(self.sma2, self.sma1):\n",
        "            self.sell()\n"
      ],
      "metadata": {
        "id": "2orVvOZjvJW_"
      },
      "execution_count": 84,
      "outputs": []
    },
    {
      "cell_type": "code",
      "source": [
        "all_df.set_index('dt', inplace = True)"
      ],
      "metadata": {
        "colab": {
          "base_uri": "https://localhost:8080/"
        },
        "id": "qMLxD6PbAddd",
        "outputId": "ea8dea2e-3e4e-46ff-e4e3-c260d4e51555"
      },
      "execution_count": 85,
      "outputs": [
        {
          "output_type": "execute_result",
          "data": {
            "text/plain": [
              "(-14.790994087780666,\n",
              " 34.51599741490561,\n",
              " 0.06941126014217665,\n",
              " 0.15105336859240112,\n",
              " 'PFE')"
            ]
          },
          "metadata": {},
          "execution_count": 85
        }
      ]
    },
    {
      "cell_type": "code",
      "source": [
        "all_df_3 = pd.DataFrame()\n",
        "start_backtest_date = '2022-06-01'\n",
        "end_backtest_date = '2022-09-01'\n",
        "fname_string_backtest = 'all_stocks_' + start_backtest_date + '_' + end_backtest_date + '.csv'\n",
        "\n",
        "\n",
        "for tkr in all_stocks:\n",
        "  single_stock_pd = yf.download(tickers=tkr, start=start_backtest_date, end=end_backtest_date, auto_adjust=True)\n",
        "  single_stock_pd['stock'] = tkr\n",
        "  all_df_3 = all_df_3.append(single_stock_pd)\n",
        "\n",
        "all_df_3.to_csv(fname_string_backtest)"
      ],
      "metadata": {
        "id": "1MwsKm1-zDlF"
      },
      "execution_count": null,
      "outputs": []
    },
    {
      "cell_type": "code",
      "source": [
        "all_df_3 = pd.read_csv(fname_string_backtest)\n",
        "all_df_3['dt'] = pd.to_datetime(all_df_3['Date'])\n",
        "# all_df_3 = pd.read_csv(fname_string_backtest, index_col='Date', parse_dates=True)\n",
        "all_df_3.set_index('dt', inplace = True)"
      ],
      "metadata": {
        "id": "BCJTzF8nzOjz"
      },
      "execution_count": 111,
      "outputs": []
    },
    {
      "cell_type": "code",
      "source": [
        "calculate_portfolio_stats(all_df_3, stocks_list)"
      ],
      "metadata": {
        "colab": {
          "base_uri": "https://localhost:8080/"
        },
        "id": "_7-jhIyR4mQ1",
        "outputId": "92b05f11-6525-4254-8a84-15111b79b35c"
      },
      "execution_count": 112,
      "outputs": [
        {
          "output_type": "execute_result",
          "data": {
            "text/plain": [
              "(-2.466836294672141, 8.660584787780985, nan, nan, 'ADP')"
            ]
          },
          "metadata": {},
          "execution_count": 112
        }
      ]
    },
    {
      "cell_type": "markdown",
      "source": [
        "Run the protfolio On all the stocks and show data on the best one"
      ],
      "metadata": {
        "id": "T9wdsnzqG-KK"
      }
    },
    {
      "cell_type": "code",
      "source": [
        "results = {}\n",
        "for stock in stocks_list:\n",
        "    bt = Backtest(all_df_3.loc[all_df_3['stock'] == stock], SmaCross, \n",
        "                  cash=10000, commission=.002, \n",
        "                  exclusive_orders=True)\n",
        "    output = bt.run()\n",
        "    results[stock] = output.loc['Return [%]']\n",
        "\n",
        "best_stock = max(results, key=results.get)\n",
        "print(f\"The stock with the highest return is {best_stock} with a return of {results[best_stock]}%\")\n",
        "# bt.plot()\n",
        "bt = Backtest(all_df_3.loc[all_df_3['stock'] == best_stock], SmaCross, \n",
        "                  cash=10000, commission=.002, \n",
        "                  exclusive_orders=True)\n",
        "output = bt.run()\n",
        "print(output)"
      ],
      "metadata": {
        "colab": {
          "base_uri": "https://localhost:8080/"
        },
        "id": "vBuN9UGA0MB9",
        "outputId": "74b574ce-961a-4807-f7a8-ca595397cbc1"
      },
      "execution_count": 113,
      "outputs": [
        {
          "output_type": "stream",
          "name": "stdout",
          "text": [
            "The stock with the highest return is ADP with a return of 18.267096758506632%\n",
            "Start                     2022-06-01 00:00:00\n",
            "End                       2022-08-31 00:00:00\n",
            "Duration                     91 days 00:00:00\n",
            "Exposure Time [%]                     64.0625\n",
            "Equity Final [$]                 11826.709676\n",
            "Equity Peak [$]                  12434.089072\n",
            "Return [%]                          18.267097\n",
            "Buy & Hold Return [%]               11.969238\n",
            "Return (Ann.) [%]                   93.598393\n",
            "Volatility (Ann.) [%]               41.743395\n",
            "Sharpe Ratio                         2.242232\n",
            "Sortino Ratio                       10.318593\n",
            "Calmar Ratio                        15.940603\n",
            "Max. Drawdown [%]                   -5.871697\n",
            "Avg. Drawdown [%]                   -1.487458\n",
            "Max. Drawdown Duration       13 days 00:00:00\n",
            "Avg. Drawdown Duration        5 days 00:00:00\n",
            "# Trades                                    3\n",
            "Win Rate [%]                            100.0\n",
            "Best Trade [%]                      13.534114\n",
            "Worst Trade [%]                      1.091789\n",
            "Avg. Trade [%]                       5.764026\n",
            "Max. Trade Duration          36 days 00:00:00\n",
            "Avg. Trade Duration          19 days 00:00:00\n",
            "Profit Factor                             NaN\n",
            "Expectancy [%]                       5.901751\n",
            "SQN                                  1.510712\n",
            "_strategy                            SmaCross\n",
            "_equity_curve                             ...\n",
            "_trades                      Size  EntryBa...\n",
            "dtype: object\n"
          ]
        }
      ]
    },
    {
      "cell_type": "code",
      "source": [],
      "metadata": {
        "colab": {
          "base_uri": "https://localhost:8080/",
          "height": 235
        },
        "id": "e1iBNuYJG21M",
        "outputId": "f4d04340-e4a1-457e-9cd7-af81a19716dd"
      },
      "execution_count": 114,
      "outputs": [
        {
          "output_type": "error",
          "ename": "TypeError",
          "evalue": "ignored",
          "traceback": [
            "\u001b[0;31m---------------------------------------------------------------------------\u001b[0m",
            "\u001b[0;31mTypeError\u001b[0m                                 Traceback (most recent call last)",
            "\u001b[0;32m<ipython-input-114-5dfbfcad0d2d>\u001b[0m in \u001b[0;36m<module>\u001b[0;34m\u001b[0m\n\u001b[0;32m----> 1\u001b[0;31m bt = Backtest(stocks_list,\n\u001b[0m\u001b[1;32m      2\u001b[0m               \u001b[0mcash\u001b[0m\u001b[0;34m=\u001b[0m\u001b[0;36m10000\u001b[0m\u001b[0;34m,\u001b[0m \u001b[0mcommission\u001b[0m\u001b[0;34m=\u001b[0m\u001b[0;36m.002\u001b[0m\u001b[0;34m,\u001b[0m\u001b[0;34m\u001b[0m\u001b[0;34m\u001b[0m\u001b[0m\n\u001b[1;32m      3\u001b[0m               exclusive_orders=True)\n\u001b[1;32m      4\u001b[0m \u001b[0;34m\u001b[0m\u001b[0m\n\u001b[1;32m      5\u001b[0m \u001b[0moutput\u001b[0m \u001b[0;34m=\u001b[0m \u001b[0mbt\u001b[0m\u001b[0;34m.\u001b[0m\u001b[0mrun\u001b[0m\u001b[0;34m(\u001b[0m\u001b[0;34m)\u001b[0m\u001b[0;34m\u001b[0m\u001b[0;34m\u001b[0m\u001b[0m\n",
            "\u001b[0;31mTypeError\u001b[0m: __init__() missing 1 required positional argument: 'strategy'"
          ]
        }
      ]
    }
  ]
}